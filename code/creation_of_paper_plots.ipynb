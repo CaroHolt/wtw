{
 "cells": [
  {
   "cell_type": "markdown",
   "metadata": {},
   "source": [
    "# Code to produce the plots of the paper"
   ]
  },
  {
   "cell_type": "markdown",
   "metadata": {},
   "source": [
    "## 1. General Imports"
   ]
  },
  {
   "cell_type": "code",
   "execution_count": 104,
   "metadata": {},
   "outputs": [],
   "source": [
    "import pandas as pd\n",
    "import numpy as np\n",
    "\n",
    "import scipy.stats as stats\n",
    "\n",
    "import warnings\n",
    "\n",
    "warnings.filterwarnings(\"ignore\")\n",
    "\n",
    "import plotly.express as px\n",
    "import plotly.graph_objects as go\n",
    "import plotly.io as pio\n",
    "\n",
    "\n",
    "pio.templates[\"template\"] = go.layout.Template()\n",
    "\n",
    "pio.templates.default = \"template\"\n",
    "\n",
    "\n",
    "adapter_list = [\n",
    "    \"dailymail\",\n",
    "    \"wired\",\n",
    "    \"express\",\n",
    "    \"npr\",\n",
    "    \"librarything\",\n",
    "    \"instructables\",\n",
    "    \"entrepreneur\",\n",
    "    \"springer\",\n",
    "    \"insiderpages\",\n",
    "    \"ign\",\n",
    "    \"eventbrite\",\n",
    "    \"macrumors\",\n",
    "    \"androidheadlines\",\n",
    "    \"glassdoor\",\n",
    "    \"pcworld\",\n",
    "    \"csmonitor\",\n",
    "    \"lonelyplanet\",\n",
    "    \"booking\",\n",
    "    \"journals\",\n",
    "    \"frontiersin\",\n",
    "    \"medium\",\n",
    "]"
   ]
  },
  {
   "cell_type": "code",
   "execution_count": 105,
   "metadata": {},
   "outputs": [],
   "source": [
    "df = pd.read_excel(\"../data/experimental_results.xlsx\")"
   ]
  },
  {
   "cell_type": "markdown",
   "metadata": {},
   "source": [
    "## 2. Comparison Average & Ensemble"
   ]
  },
  {
   "cell_type": "code",
   "execution_count": 110,
   "metadata": {},
   "outputs": [
    {
     "data": {
      "text/html": [
       "<div>\n",
       "<style scoped>\n",
       "    .dataframe tbody tr th:only-of-type {\n",
       "        vertical-align: middle;\n",
       "    }\n",
       "\n",
       "    .dataframe tbody tr th {\n",
       "        vertical-align: top;\n",
       "    }\n",
       "\n",
       "    .dataframe thead th {\n",
       "        text-align: right;\n",
       "    }\n",
       "</style>\n",
       "<table border=\"1\" class=\"dataframe\">\n",
       "  <thead>\n",
       "    <tr style=\"text-align: right;\">\n",
       "      <th></th>\n",
       "      <th>model</th>\n",
       "      <th>combination_strategy</th>\n",
       "      <th>weighting</th>\n",
       "      <th>eval_dataset</th>\n",
       "      <th>value</th>\n",
       "      <th>seed</th>\n",
       "      <th>chosen_adapters</th>\n",
       "      <th>topk</th>\n",
       "      <th>weights</th>\n",
       "    </tr>\n",
       "  </thead>\n",
       "  <tbody>\n",
       "  </tbody>\n",
       "</table>\n",
       "</div>"
      ],
      "text/plain": [
       "Empty DataFrame\n",
       "Columns: [model, combination_strategy, weighting, eval_dataset, value, seed, chosen_adapters, topk, weights]\n",
       "Index: []"
      ]
     },
     "execution_count": 110,
     "metadata": {},
     "output_type": "execute_result"
    }
   ],
   "source": [
    "df_avg_ens[(df_avg_ens['topk'] < 1) & ~(df_avg_ens['combination_strategy'].isnull())]"
   ]
  },
  {
   "cell_type": "code",
   "execution_count": 111,
   "metadata": {},
   "outputs": [],
   "source": [
    "df_avg_ens = df.copy()\n",
    "df_avg_ens.loc[df_avg_ens[\"combination_strategy\"].isnull(), \"topk\"] = 0\n",
    "\n",
    "\n",
    "for model in df_avg_ens.model.unique():\n",
    "    for index in df_avg_ens.loc[\n",
    "        (df_avg_ens[\"model\"] == model) & (df_avg_ens[\"combination_strategy\"].isnull())\n",
    "    ].index:\n",
    "        for strat in [\"average\", \"ensemble\"]:\n",
    "            for weighting in [\"Sentence Sim\", \"TF-IDF\", \"Entropy\", \"Prior\"]:\n",
    "                df_avg_ens = df_avg_ens.append(\n",
    "                    df_avg_ens.loc[[index] * 1].assign(\n",
    "                        **{\"weighting\": weighting, \"combination_strategy\": strat}\n",
    "                    )\n",
    "                )\n",
    "\n",
    "\n",
    "df_avg_ens[\"topk\"] = df_avg_ens[\"topk\"].fillna(21)\n",
    "\n",
    "\n",
    "avg_seed = (\n",
    "    df_avg_ens.groupby(\n",
    "        by=[\"model\", \"combination_strategy\", \"weighting\", \"eval_dataset\", \"topk\"]\n",
    "    )\n",
    "    .mean()\n",
    "    .reset_index()\n",
    ")\n",
    "\n",
    "avg_dataset = (\n",
    "    avg_seed.groupby(by=[\"model\", \"combination_strategy\", \"weighting\", \"topk\"])\n",
    "    .mean()\n",
    "    .reset_index()\n",
    ")"
   ]
  },
  {
   "cell_type": "code",
   "execution_count": 114,
   "metadata": {},
   "outputs": [
    {
     "data": {
      "application/vnd.plotly.v1+json": {
       "config": {
        "plotlyServerURL": "https://plot.ly"
       },
       "data": [
        {
         "line": {
          "color": "rgb(102,194,165)",
          "dash": "dash",
          "width": 2
         },
         "marker": {
          "size": 8
         },
         "showlegend": false,
         "type": "scatter",
         "x": [
          0,
          1,
          2,
          3,
          4,
          5,
          6,
          7,
          8,
          9,
          10,
          21
         ],
         "y": [
          120115.61145893752,
          4.7148878083192045,
          4.3938507842103975,
          4.48954613100709,
          4.497314360569414,
          4.529132788389605,
          4.540514004374981,
          4.549133832945602,
          4.542812620806954,
          4.533924876854609,
          4.546115411556871,
          4.57860530607482
         ]
        },
        {
         "line": {
          "color": "rgb(102,194,165)",
          "width": 2
         },
         "marker": {
          "size": 8
         },
         "name": "Sentence Sim",
         "type": "scatter",
         "x": [
          0,
          1,
          2,
          3,
          4,
          5,
          6,
          7,
          8,
          9,
          10,
          21
         ],
         "y": [
          120115.61145893752,
          4.715955602815714,
          5.147447753521081,
          5.539252430361145,
          5.697840934317867,
          5.835718285132492,
          5.93139146162784,
          6.029055980277171,
          6.080572193389342,
          6.127832979782849,
          6.242535047620438,
          6.543419325909042
         ]
        },
        {
         "line": {
          "color": "rgb(252,141,98)",
          "dash": "dash",
          "width": 2
         },
         "marker": {
          "size": 8
         },
         "showlegend": false,
         "type": "scatter",
         "x": [
          0,
          1,
          2,
          3,
          4,
          5,
          6,
          7,
          8,
          9,
          10,
          21
         ],
         "y": [
          120115.61145893752,
          4.560077943139021,
          4.4251913777078355,
          4.342681764459951,
          4.376380421964578,
          4.361809757585283,
          4.382750996548556,
          4.393186630257533,
          4.417766732976593,
          4.440387286428219,
          4.4745056070712845,
          4.614382384218418
         ]
        },
        {
         "line": {
          "color": "rgb(252,141,98)",
          "width": 2
         },
         "marker": {
          "size": 8
         },
         "name": "TF-IDF",
         "type": "scatter",
         "x": [
          0,
          1,
          2,
          3,
          4,
          5,
          6,
          7,
          8,
          9,
          10,
          21
         ],
         "y": [
          120115.61145893752,
          4.548366760786817,
          5.269498320993537,
          5.522657128741591,
          5.633204321523383,
          5.785979878089675,
          5.911283758786144,
          6.006979101069666,
          6.077344062693524,
          6.1371032638670915,
          6.229617840827194,
          7.014328504938911
         ]
        },
        {
         "line": {
          "color": "rgb(141,160,203)",
          "dash": "dash",
          "width": 2
         },
         "marker": {
          "size": 8
         },
         "showlegend": false,
         "type": "scatter",
         "x": [
          0,
          1,
          2,
          3,
          4,
          5,
          6,
          7,
          8,
          9,
          10,
          21
         ],
         "y": [
          120115.61145893752,
          4.18355169180236,
          4.117073846720346,
          4.1252316203529675,
          4.132595670953814,
          4.137998611800557,
          4.166145500972403,
          4.190802685047227,
          4.226308304152345,
          4.260544883066979,
          4.283068148591075,
          4.687475848589367
         ]
        },
        {
         "line": {
          "color": "rgb(141,160,203)",
          "width": 2
         },
         "marker": {
          "size": 8
         },
         "name": "Entropy",
         "type": "scatter",
         "x": [
          0,
          1,
          2,
          3,
          4,
          5,
          6,
          7,
          8,
          9,
          10,
          21
         ],
         "y": [
          120115.61145893752,
          4.1960704330391945,
          5.021855238877579,
          5.739374147197454,
          6.609695182406158,
          6.6176950612680185,
          6.802531305612871,
          6.863566170824427,
          6.964014056801213,
          6.9686063671594685,
          7.051382072140926,
          7.3548957275370315
         ]
        },
        {
         "line": {
          "color": "rgb(231,138,195)",
          "dash": "dash",
          "width": 2
         },
         "marker": {
          "size": 8
         },
         "showlegend": false,
         "type": "scatter",
         "x": [
          0,
          1,
          2,
          3,
          4,
          5,
          6,
          7,
          8,
          9,
          10,
          21
         ],
         "y": [
          120115.61145893752,
          4.550451533689101,
          4.4872776502656775,
          4.304037796591852,
          4.284240377723719,
          4.252278236028621,
          4.2736951293911725,
          4.303424931253752,
          4.285778541903719,
          4.330643127438501,
          4.351314323879826,
          4.647280809123022
         ]
        },
        {
         "line": {
          "color": "rgb(231,138,195)",
          "width": 2
         },
         "marker": {
          "size": 8
         },
         "name": "Prior",
         "type": "scatter",
         "x": [
          0,
          1,
          2,
          3,
          4,
          5,
          6,
          7,
          8,
          9,
          10,
          21
         ],
         "y": [
          120115.61145893752,
          4.540576700230289,
          5.716024436001284,
          5.946049421700001,
          6.424654969122426,
          6.547394092749738,
          6.685407270592701,
          6.787229009578709,
          6.854961382501381,
          6.934313426364453,
          7.019842543900992,
          7.3156352485914855
         ]
        }
       ],
       "layout": {
        "font": {
         "family": "Times New Roman",
         "size": 24
        },
        "legend": {
         "bgcolor": "rgba(0,0,0,0)",
         "x": 0.97,
         "xanchor": "right",
         "y": 1,
         "yanchor": "top"
        },
        "template": {
         "data": {
          "scatter": [
           {
            "type": "scatter"
           }
          ]
         }
        },
        "title": {
         "text": "deberta"
        },
        "xaxis": {
         "title": {
          "text": "#-Adapters used"
         }
        },
        "yaxis": {
         "title": {
          "text": "Avg. Perplexity"
         }
        }
       }
      }
     },
     "metadata": {},
     "output_type": "display_data"
    },
    {
     "data": {
      "application/vnd.plotly.v1+json": {
       "config": {
        "plotlyServerURL": "https://plot.ly"
       },
       "data": [
        {
         "line": {
          "color": "rgb(102,194,165)",
          "dash": "dot",
          "width": 2
         },
         "name": "Sentence Sim",
         "type": "scatter",
         "x": [
          1,
          2,
          3,
          4,
          5,
          6,
          7,
          8,
          9,
          10,
          21
         ],
         "y": [
          -0.0010677944965094,
          -0.7535969693106832,
          -1.049706299354055,
          -1.2005265737484532,
          -1.306585496742887,
          -1.3908774572528584,
          -1.4799221473315693,
          -1.537759572582388,
          -1.59390810292824,
          -1.6964196360635677,
          -1.9648140198342219
         ]
        },
        {
         "line": {
          "color": "rgb(252,141,98)",
          "dash": "dot",
          "width": 2
         },
         "name": "TF-IDF",
         "type": "scatter",
         "x": [
          1,
          2,
          3,
          4,
          5,
          6,
          7,
          8,
          9,
          10,
          21
         ],
         "y": [
          0.011711182352203586,
          -0.8443069432857015,
          -1.1799753642816402,
          -1.256823899558805,
          -1.4241701205043915,
          -1.528532762237588,
          -1.6137924708121325,
          -1.6595773297169316,
          -1.6967159774388723,
          -1.7551122337559093,
          -2.399946120720493
         ]
        },
        {
         "line": {
          "color": "rgb(141,160,203)",
          "dash": "dot",
          "width": 2
         },
         "name": "Entropy",
         "type": "scatter",
         "x": [
          1,
          2,
          3,
          4,
          5,
          6,
          7,
          8,
          9,
          10,
          21
         ],
         "y": [
          -0.012518741236834607,
          -0.9047813921572327,
          -1.6141425268444864,
          -2.4770995114523444,
          -2.479696449467461,
          -2.636385804640468,
          -2.6727634857772005,
          -2.7377057526488686,
          -2.7080614840924895,
          -2.7683139235498517,
          -2.6674198789476646
         ]
        },
        {
         "line": {
          "color": "rgb(231,138,195)",
          "dash": "dot",
          "width": 2
         },
         "name": "Prior",
         "type": "scatter",
         "x": [
          1,
          2,
          3,
          4,
          5,
          6,
          7,
          8,
          9,
          10,
          21
         ],
         "y": [
          0.009874833458812127,
          -1.2287467857356065,
          -1.6420116251081485,
          -2.1404145913987076,
          -2.295115856721117,
          -2.4117121412015283,
          -2.4838040783249573,
          -2.569182840597662,
          -2.6036702989259517,
          -2.668528220021166,
          -2.6683544394684633
         ]
        }
       ],
       "layout": {
        "font": {
         "family": "Times New Roman",
         "size": 24
        },
        "legend": {
         "xanchor": "right",
         "y": 1.015,
         "yanchor": "top"
        },
        "template": {
         "data": {
          "scatter": [
           {
            "type": "scatter"
           }
          ]
         }
        },
        "title": {
         "text": "Perplexity Difference deberta"
        },
        "xaxis": {
         "title": {
          "text": "#-Adapters used"
         }
        },
        "yaxis": {
         "title": {
          "text": "Ensembling - Averaging PPL"
         }
        }
       }
      }
     },
     "metadata": {},
     "output_type": "display_data"
    },
    {
     "data": {
      "application/vnd.plotly.v1+json": {
       "config": {
        "plotlyServerURL": "https://plot.ly"
       },
       "data": [
        {
         "line": {
          "color": "rgb(102,194,165)",
          "dash": "dash",
          "width": 2
         },
         "marker": {
          "size": 8
         },
         "showlegend": false,
         "type": "scatter",
         "x": [
          0,
          1,
          2,
          3,
          4,
          5,
          6,
          7,
          8,
          9,
          10,
          21
         ],
         "y": [
          26.599490836268558,
          23.630608283889906,
          22.815805193486135,
          22.479711317042444,
          22.38980355588858,
          22.324649449825156,
          22.316925652032324,
          22.313324034617803,
          22.31478525092856,
          22.318959727047666,
          22.345544626638294,
          22.50953622224683
         ]
        },
        {
         "line": {
          "color": "rgb(102,194,165)",
          "width": 2
         },
         "marker": {
          "size": 8
         },
         "name": "Sentence Sim",
         "type": "scatter",
         "x": [
          0,
          1,
          2,
          3,
          4,
          5,
          6,
          7,
          8,
          9,
          10,
          21
         ],
         "y": [
          26.599490836268558,
          23.619094717142577,
          22.891652635215017,
          22.575620512793456,
          22.607511728203754,
          22.588831579059438,
          22.605861910336387,
          22.632433307223828,
          22.651491507460182,
          22.668400161869727,
          22.712989163423963,
          22.92095048745813
         ]
        },
        {
         "line": {
          "color": "rgb(252,141,98)",
          "dash": "dash",
          "width": 2
         },
         "marker": {
          "size": 8
         },
         "showlegend": false,
         "type": "scatter",
         "x": [
          0,
          1,
          2,
          3,
          4,
          5,
          6,
          7,
          8,
          9,
          10,
          21
         ],
         "y": [
          26.599490836268558,
          23.05042394342245,
          22.32566584107191,
          22.193124313871728,
          22.219566760066,
          22.197361252451245,
          22.210265568132815,
          22.239547944804027,
          22.28573388387274,
          22.324570342567547,
          22.35332887420277,
          22.711713036946094
         ]
        },
        {
         "line": {
          "color": "rgb(252,141,98)",
          "width": 2
         },
         "marker": {
          "size": 8
         },
         "name": "TF-IDF",
         "type": "scatter",
         "x": [
          0,
          1,
          2,
          3,
          4,
          5,
          6,
          7,
          8,
          9,
          10,
          21
         ],
         "y": [
          26.599490836268558,
          23.041670969640354,
          22.40147201547292,
          22.375208578213563,
          22.414328712605673,
          22.441868829279244,
          22.47891017240323,
          22.535914125772827,
          22.58998702799486,
          22.64624576631773,
          22.68505380937028,
          23.0836011752507
         ]
        },
        {
         "line": {
          "color": "rgb(141,160,203)",
          "dash": "dash",
          "width": 2
         },
         "marker": {
          "size": 8
         },
         "showlegend": false,
         "type": "scatter",
         "x": [
          0,
          1,
          2,
          3,
          4,
          5,
          6,
          7,
          8,
          9,
          10,
          21
         ],
         "y": [
          26.599490836268558,
          23.516448330685286,
          22.61179139096225,
          22.528679443726045,
          22.34690711767812,
          22.36940744111363,
          22.421049240595703,
          22.46588528842345,
          22.512817213736483,
          22.551840733221646,
          22.59580484735975,
          23.013303061502167
         ]
        },
        {
         "line": {
          "color": "rgb(141,160,203)",
          "width": 2
         },
         "marker": {
          "size": 8
         },
         "name": "Entropy",
         "type": "scatter",
         "x": [
          0,
          1,
          2,
          3,
          4,
          5,
          6,
          7,
          8,
          9,
          10,
          21
         ],
         "y": [
          26.599490836268558,
          23.514329731294776,
          22.682908590664702,
          22.64961412728699,
          22.49938568525413,
          22.578754907622024,
          22.654655789261852,
          22.715051599659226,
          22.771133052106972,
          22.813934456722844,
          22.86296642131784,
          23.343612951383868
         ]
        },
        {
         "line": {
          "color": "rgb(231,138,195)",
          "dash": "dash",
          "width": 2
         },
         "marker": {
          "size": 8
         },
         "showlegend": false,
         "type": "scatter",
         "x": [
          0,
          1,
          2,
          3,
          4,
          5,
          6,
          7,
          8,
          9,
          10,
          21
         ],
         "y": [
          26.599490836268558,
          27.750407483947008,
          25.520524900114175,
          24.751490925175688,
          24.393909893169944,
          24.184745765306026,
          23.991280275964748,
          23.786297561580184,
          23.638763275810128,
          23.575409122025626,
          23.46741911188142,
          23.104715601385063
         ]
        },
        {
         "line": {
          "color": "rgb(231,138,195)",
          "width": 2
         },
         "marker": {
          "size": 8
         },
         "name": "Prior",
         "type": "scatter",
         "x": [
          0,
          1,
          2,
          3,
          4,
          5,
          6,
          7,
          8,
          9,
          10,
          21
         ],
         "y": [
          26.599490836268558,
          27.741524445870844,
          25.08874822363876,
          24.541103282495868,
          24.337156246026836,
          24.296413264808024,
          24.084385212947005,
          23.987631785613132,
          23.87245227954903,
          23.825206876127414,
          23.74471591097251,
          23.461938607155798
         ]
        }
       ],
       "layout": {
        "font": {
         "family": "Times New Roman",
         "size": 24
        },
        "legend": {
         "bgcolor": "rgba(0,0,0,0)",
         "x": 0.97,
         "xanchor": "right",
         "y": 1,
         "yanchor": "top"
        },
        "template": {
         "data": {
          "scatter": [
           {
            "type": "scatter"
           }
          ]
         }
        },
        "title": {
         "text": "gpt2"
        },
        "xaxis": {
         "title": {
          "text": "#-Adapters used"
         }
        },
        "yaxis": {
         "title": {
          "text": "Avg. Perplexity"
         }
        }
       }
      }
     },
     "metadata": {},
     "output_type": "display_data"
    },
    {
     "data": {
      "application/vnd.plotly.v1+json": {
       "config": {
        "plotlyServerURL": "https://plot.ly"
       },
       "data": [
        {
         "line": {
          "color": "rgb(102,194,165)",
          "dash": "dot",
          "width": 2
         },
         "name": "Sentence Sim",
         "type": "scatter",
         "x": [
          1,
          2,
          3,
          4,
          5,
          6,
          7,
          8,
          9,
          10,
          21
         ],
         "y": [
          0.011513566747328952,
          -0.07584744172888236,
          -0.09590919575101253,
          -0.2177081723151737,
          -0.26418212923428186,
          -0.2889362583040622,
          -0.31910927260602406,
          -0.3367062565316239,
          -0.34944043482206055,
          -0.36744453678566913,
          -0.41141426521129887
         ]
        },
        {
         "line": {
          "color": "rgb(252,141,98)",
          "dash": "dot",
          "width": 2
         },
         "name": "TF-IDF",
         "type": "scatter",
         "x": [
          1,
          2,
          3,
          4,
          5,
          6,
          7,
          8,
          9,
          10,
          21
         ],
         "y": [
          0.00875297378209794,
          -0.07580617440100923,
          -0.18208426434183522,
          -0.19476195253967177,
          -0.24450757682799917,
          -0.26864460427041337,
          -0.29636618096879985,
          -0.3042531441221179,
          -0.32167542375018243,
          -0.3317249351675109,
          -0.3718881383046053
         ]
        },
        {
         "line": {
          "color": "rgb(141,160,203)",
          "dash": "dot",
          "width": 2
         },
         "name": "Entropy",
         "type": "scatter",
         "x": [
          1,
          2,
          3,
          4,
          5,
          6,
          7,
          8,
          9,
          10,
          21
         ],
         "y": [
          0.0021185993905099565,
          -0.0711171997024529,
          -0.12093468356094661,
          -0.15247856757600786,
          -0.20934746650839386,
          -0.23360654866614894,
          -0.2491663112357756,
          -0.2583158383704891,
          -0.26209372350119864,
          -0.26716157395808793,
          -0.3303098898817005
         ]
        },
        {
         "line": {
          "color": "rgb(231,138,195)",
          "dash": "dot",
          "width": 2
         },
         "name": "Prior",
         "type": "scatter",
         "x": [
          1,
          2,
          3,
          4,
          5,
          6,
          7,
          8,
          9,
          10,
          21
         ],
         "y": [
          0.00888303807616353,
          0.4317766764754154,
          0.21038764267981946,
          0.0567536471431076,
          -0.11166749950199772,
          -0.09310493698225741,
          -0.20133422403294787,
          -0.23368900373890256,
          -0.24979775410178817,
          -0.27729679909108995,
          -0.3572230057707344
         ]
        }
       ],
       "layout": {
        "font": {
         "family": "Times New Roman",
         "size": 24
        },
        "legend": {
         "xanchor": "right",
         "y": 1.015,
         "yanchor": "top"
        },
        "template": {
         "data": {
          "scatter": [
           {
            "type": "scatter"
           }
          ]
         }
        },
        "title": {
         "text": "Perplexity Difference gpt2"
        },
        "xaxis": {
         "title": {
          "text": "#-Adapters used"
         }
        },
        "yaxis": {
         "title": {
          "text": "Ensembling - Averaging PPL"
         }
        }
       }
      }
     },
     "metadata": {},
     "output_type": "display_data"
    },
    {
     "data": {
      "application/vnd.plotly.v1+json": {
       "config": {
        "plotlyServerURL": "https://plot.ly"
       },
       "data": [
        {
         "line": {
          "color": "rgb(102,194,165)",
          "dash": "dash",
          "width": 2
         },
         "marker": {
          "size": 8
         },
         "showlegend": false,
         "type": "scatter",
         "x": [
          0,
          1,
          5,
          10,
          21
         ],
         "y": [
          17.14587859525186,
          16.238560348539632,
          15.083273853672415,
          15.042964063026261,
          15.1240132939836
         ]
        },
        {
         "line": {
          "color": "rgb(102,194,165)",
          "width": 2
         },
         "marker": {
          "size": 8
         },
         "name": "Sentence Sim",
         "type": "scatter",
         "x": [
          0,
          1,
          5,
          10,
          21
         ],
         "y": [
          17.14587859525186,
          16.252202717816846,
          15.454901257142035,
          15.549410490107226,
          15.70777022068307
         ]
        },
        {
         "line": {
          "color": "rgb(252,141,98)",
          "dash": "dash",
          "width": 2
         },
         "marker": {
          "size": 8
         },
         "showlegend": false,
         "type": "scatter",
         "x": [
          0,
          1,
          5,
          10,
          15,
          21
         ],
         "y": [
          17.14587859525186,
          15.861428264673894,
          15.024594220687012,
          15.097411841507613,
          15.185851928555689,
          15.281066974244021
         ]
        },
        {
         "line": {
          "color": "rgb(252,141,98)",
          "width": 2
         },
         "marker": {
          "size": 8
         },
         "name": "TF-IDF",
         "type": "scatter",
         "x": [
          0,
          1,
          5,
          10,
          15,
          21
         ],
         "y": [
          17.14587859525186,
          15.869593009870622,
          15.328305935431558,
          15.56995803313077,
          15.759580838308569,
          15.86861154106557
         ]
        },
        {
         "line": {
          "color": "rgb(141,160,203)",
          "dash": "dash",
          "width": 2
         },
         "marker": {
          "size": 8
         },
         "showlegend": false,
         "type": "scatter",
         "x": [
          0,
          1,
          5,
          10,
          21
         ],
         "y": [
          17.14587859525186,
          16.30763965753291,
          15.179606437728712,
          15.25738957476159,
          15.555514495109435
         ]
        },
        {
         "line": {
          "color": "rgb(141,160,203)",
          "width": 2
         },
         "marker": {
          "size": 8
         },
         "name": "Entropy",
         "type": "scatter",
         "x": [
          0,
          1,
          5,
          10,
          21
         ],
         "y": [
          17.14587859525186,
          16.319916455301772,
          15.52271913801342,
          15.680956801531448,
          16.021139905922887
         ]
        },
        {
         "line": {
          "color": "rgb(231,138,195)",
          "dash": "dash",
          "width": 2
         },
         "marker": {
          "size": 8
         },
         "showlegend": false,
         "type": "scatter",
         "x": [
          0,
          1,
          5,
          10,
          21
         ],
         "y": [
          17.14587859525186,
          19.168468857473655,
          16.354626626549262,
          15.731294721089128,
          15.5084986562684
         ]
        },
        {
         "line": {
          "color": "rgb(231,138,195)",
          "width": 2
         },
         "marker": {
          "size": 8
         },
         "name": "Prior",
         "type": "scatter",
         "x": [
          0,
          1,
          5,
          10,
          21
         ],
         "y": [
          17.14587859525186,
          19.181635780128197,
          16.47575467102859,
          16.07999364726468,
          16.04849438297564
         ]
        }
       ],
       "layout": {
        "font": {
         "family": "Times New Roman",
         "size": 24
        },
        "legend": {
         "bgcolor": "rgba(0,0,0,0)",
         "x": 0.97,
         "xanchor": "right",
         "y": 1,
         "yanchor": "top"
        },
        "template": {
         "data": {
          "scatter": [
           {
            "type": "scatter"
           }
          ]
         }
        },
        "title": {
         "text": "gpt2-large"
        },
        "xaxis": {
         "title": {
          "text": "#-Adapters used"
         }
        },
        "yaxis": {
         "title": {
          "text": "Avg. Perplexity"
         }
        }
       }
      }
     },
     "metadata": {},
     "output_type": "display_data"
    },
    {
     "data": {
      "application/vnd.plotly.v1+json": {
       "config": {
        "plotlyServerURL": "https://plot.ly"
       },
       "data": [
        {
         "line": {
          "color": "rgb(102,194,165)",
          "dash": "dot",
          "width": 2
         },
         "name": "Sentence Sim",
         "type": "scatter",
         "x": [
          1,
          5,
          10,
          21
         ],
         "y": [
          -0.013642369277214073,
          -0.37162740346962053,
          -0.5064464270809648,
          -0.5837569266994702
         ]
        },
        {
         "line": {
          "color": "rgb(252,141,98)",
          "dash": "dot",
          "width": 2
         },
         "name": "TF-IDF",
         "type": "scatter",
         "x": [
          1,
          5,
          10,
          15,
          21
         ],
         "y": [
          -0.008164745196728163,
          -0.30371171474454606,
          -0.4725461916231577,
          -0.5737289097528802,
          -0.5875445668215491
         ]
        },
        {
         "line": {
          "color": "rgb(141,160,203)",
          "dash": "dot",
          "width": 2
         },
         "name": "Entropy",
         "type": "scatter",
         "x": [
          1,
          5,
          10,
          21
         ],
         "y": [
          -0.01227679776886248,
          -0.3431127002847081,
          -0.42356722676985825,
          -0.4656254108134519
         ]
        },
        {
         "line": {
          "color": "rgb(231,138,195)",
          "dash": "dot",
          "width": 2
         },
         "name": "Prior",
         "type": "scatter",
         "x": [
          1,
          5,
          10,
          21
         ],
         "y": [
          -0.013166922654541224,
          -0.12112804447932746,
          -0.3486989261755511,
          -0.5399957267072395
         ]
        }
       ],
       "layout": {
        "font": {
         "family": "Times New Roman",
         "size": 24
        },
        "legend": {
         "xanchor": "right",
         "y": 1.015,
         "yanchor": "top"
        },
        "template": {
         "data": {
          "scatter": [
           {
            "type": "scatter"
           }
          ]
         }
        },
        "title": {
         "text": "Perplexity Difference gpt2-large"
        },
        "xaxis": {
         "title": {
          "text": "#-Adapters used"
         }
        },
        "yaxis": {
         "title": {
          "text": "Ensembling - Averaging PPL"
         }
        }
       }
      }
     },
     "metadata": {},
     "output_type": "display_data"
    }
   ],
   "source": [
    "color_list = px.colors.qualitative.Set2\n",
    "\n",
    "\n",
    "for model in avg_dataset.model.unique():\n",
    "    fig = go.Figure()\n",
    "    fig_difference = go.Figure()\n",
    "    i = 0\n",
    "    for weighting in [\"Sentence Sim\", \"TF-IDF\", \"Entropy\", \"Prior\"]:\n",
    "        sub_ens = avg_dataset[\n",
    "            (avg_dataset[\"weighting\"] == weighting)\n",
    "            & (avg_dataset[\"model\"] == model)\n",
    "            & (avg_dataset[\"combination_strategy\"] == \"ensemble\")\n",
    "        ]\n",
    "\n",
    "        fig.add_trace(\n",
    "            go.Scatter(\n",
    "                x=sub_ens[\"topk\"],\n",
    "                y=sub_ens[\"value\"],\n",
    "                showlegend=False,\n",
    "                marker=dict(size=8),\n",
    "                line=dict(color=color_list[i], width=2, dash=\"dash\"),\n",
    "            )\n",
    "        )\n",
    "\n",
    "        sub_avg = avg_dataset[\n",
    "            (avg_dataset[\"weighting\"] == weighting)\n",
    "            & (avg_dataset[\"model\"] == model)\n",
    "            & (avg_dataset[\"combination_strategy\"] == \"average\")\n",
    "        ]\n",
    "\n",
    "        fig.add_trace(\n",
    "            go.Scatter(\n",
    "                x=sub_avg[\"topk\"],\n",
    "                y=sub_avg[\"value\"],\n",
    "                name=weighting,\n",
    "                marker=dict(size=8),\n",
    "                line=dict(color=color_list[i], width=2),\n",
    "            )\n",
    "        )\n",
    "\n",
    "        df_difference = sub_ens[[\"topk\", \"value\"]]\n",
    "        df_difference.rename(columns={\"value\": \"ensemble\"}, inplace=True)\n",
    "        df_difference\n",
    "        df_difference = df_difference.merge(sub_avg, how=\"left\", on=\"topk\")\n",
    "        df_difference[\"diff\"] = df_difference[\"ensemble\"] - df_difference[\"value\"]\n",
    "\n",
    "        df_difference = df_difference[df_difference['topk'] > 0]\n",
    "\n",
    "        fig_difference.add_trace(\n",
    "            go.Scatter(\n",
    "                x=df_difference[\"topk\"],\n",
    "                y=df_difference[\"diff\"],\n",
    "                name=weighting,\n",
    "                line=dict(color=color_list[i], width=2, dash=\"dot\"),\n",
    "            )\n",
    "        )\n",
    "\n",
    "        i += 1\n",
    "\n",
    "    # Edit the layout\n",
    "    fig.update_layout(\n",
    "        title=model,\n",
    "        xaxis_title=\"#-Adapters used\",\n",
    "        yaxis_title=\"Avg. Perplexity\",\n",
    "        font_family=\"Times New Roman\",\n",
    "        font=dict(size=24),\n",
    "        legend=dict(\n",
    "            yanchor=\"top\",\n",
    "            xanchor=\"right\",\n",
    "            bgcolor=\"rgba(0,0,0,0)\",\n",
    "            y=1.0,\n",
    "            x=0.97,\n",
    "        ),\n",
    "    )\n",
    "\n",
    "    fig.show()\n",
    "\n",
    "    fig_difference.update_layout(\n",
    "        title=\"Perplexity Difference \" + model,\n",
    "        xaxis_title=\"#-Adapters used\",\n",
    "        yaxis_title=\"Ensembling - Averaging PPL\",\n",
    "        font_family=\"Times New Roman\",\n",
    "        font=dict(size=24),\n",
    "        legend=dict(\n",
    "            yanchor=\"top\",\n",
    "            xanchor=\"right\",\n",
    "            y=1.015,\n",
    "        ),\n",
    "    )\n",
    "\n",
    "    fig_difference.show()"
   ]
  },
  {
   "cell_type": "markdown",
   "metadata": {},
   "source": [
    "## 3. Comparison weighted - unweighted"
   ]
  },
  {
   "cell_type": "code",
   "execution_count": 79,
   "metadata": {},
   "outputs": [],
   "source": [
    "df_uni_weight = df[~df[\"weighting\"].isnull()]\n",
    "\n",
    "for weighting in [\"Sentence sim\", \"TF-IDF\", \"Uncert\", \"prior\"]:\n",
    "    for index in df_uni_weight[df_uni_weight.weighting == \"uniform\"].index:\n",
    "        df_uni_weight = df_uni_weight.append(\n",
    "            df_uni_weight.loc[[index] * 1].assign(\n",
    "                **{\"weighting\": weighting + \"-topk-uniform\"}\n",
    "            )\n",
    "        )\n",
    "    df_uni_weight = df_uni_weight.reset_index(drop=True)\n",
    "\n",
    "\n",
    "df_uni_weight.loc[\n",
    "    df_uni_weight.weighting == \"Entropy-topk-uniform\", \"weighting\"\n",
    "] = \"Entropy Uniform\"\n",
    "df_uni_weight.loc[\n",
    "    df_uni_weight.weighting == \"uncert-topk-uniform\", \"weighting\"\n",
    "] = \"Entropy Uniform\"\n",
    "df_uni_weight.loc[\n",
    "    df_uni_weight.weighting == \"Uncert-topk-uniform\", \"weighting\"\n",
    "] = \"Entropy Uniform\"\n",
    "df_uni_weight.loc[df_uni_weight.weighting == \"Uncert\", \"weighting\"] = \"Entropy\"\n",
    "df_uni_weight.loc[\n",
    "    df_uni_weight.weighting == \"tfidf-topk-uniform\", \"weighting\"\n",
    "] = \"TF-IDF Uniform\"\n",
    "df_uni_weight.loc[\n",
    "    df_uni_weight.weighting == \"TF-IDF-topk-uniform\", \"weighting\"\n",
    "] = \"TF-IDF Uniform\"\n",
    "df_uni_weight.loc[df_uni_weight.weighting == \"prior\", \"weighting\"] = \"Prior\"\n",
    "df_uni_weight.loc[\n",
    "    df_uni_weight.weighting == \"Prior-topk-uniform\", \"weighting\"\n",
    "] = \"Prior Uniform\"\n",
    "df_uni_weight.loc[\n",
    "    df_uni_weight.weighting == \"prior-topk-uniform\", \"weighting\"\n",
    "] = \"Prior Uniform\"\n",
    "df_uni_weight.loc[\n",
    "    df_uni_weight.weighting == \"Sentence sim\", \"weighting\"\n",
    "] = \"Sentence Sim\"\n",
    "df_uni_weight.loc[\n",
    "    df_uni_weight.weighting == \"Sentence Sim-topk-uniform\", \"weighting\"\n",
    "] = \"Sentence Sim Uniform\"\n",
    "df_uni_weight.loc[\n",
    "    df_uni_weight.weighting == \"Sentence sim-topk-uniform\", \"weighting\"\n",
    "] = \"Sentence Sim Uniform\"\n",
    "\n",
    "\n",
    "df_uni_weight = df_uni_weight[\n",
    "    (df_uni_weight[\"model\"].isin([\"deberta\", \"gpt2\"]))\n",
    "    & (df_uni_weight[\"weighting\"] != \"uniform\")\n",
    "]\n",
    "\n",
    "df_uni_weight = df_uni_weight[(df_uni_weight[\"topk\"] != 1)]"
   ]
  },
  {
   "cell_type": "code",
   "execution_count": 78,
   "metadata": {},
   "outputs": [
    {
     "data": {
      "text/plain": [
       "array(['Sentence Sim', 'TF-IDF', 'Entropy', 'Prior',\n",
       "       'Sentence Sim Uniform', 'TF-IDF Uniform', 'Entropy Uniform',\n",
       "       'Prior Uniform', 'Uncert-topk-uniform'], dtype=object)"
      ]
     },
     "execution_count": 78,
     "metadata": {},
     "output_type": "execute_result"
    }
   ],
   "source": [
    "df_uni_weight.weighting.unique()"
   ]
  },
  {
   "cell_type": "code",
   "execution_count": 80,
   "metadata": {},
   "outputs": [],
   "source": [
    "# Calculate SD\n",
    "group_ds = (\n",
    "    df_uni_weight.groupby(\n",
    "        by=[\"model\", \"combination_strategy\", \"weighting\", \"seed\", \"topk\"]\n",
    "    )\n",
    "    .mean()\n",
    "    .reset_index()\n",
    ")\n",
    "grouped_data_total = group_ds.groupby(\n",
    "    by=[\"model\", \"combination_strategy\", \"weighting\", \"topk\"]\n",
    ")[\"value\"].agg([np.mean, np.std])\n",
    "group_sizes = group_ds.groupby(\n",
    "    by=[\"model\", \"combination_strategy\", \"weighting\", \"topk\"]\n",
    ").size()\n",
    "standard_error = grouped_data_total[\"std\"] / np.sqrt(group_sizes)\n",
    "confidence_level = 0.95\n",
    "margin_of_error = (\n",
    "    stats.t.ppf((1 + confidence_level) / 2, group_sizes - 1) * standard_error\n",
    ")\n",
    "grouped_data_total[\"lower_bound\"] = grouped_data_total[\"mean\"] - margin_of_error\n",
    "grouped_data_total[\"upper_bound\"] = grouped_data_total[\"mean\"] + margin_of_error\n",
    "grouped_data_total = grouped_data_total.reset_index()"
   ]
  },
  {
   "cell_type": "code",
   "execution_count": 81,
   "metadata": {},
   "outputs": [],
   "source": [
    "grouped_data_total = grouped_data_total[\n",
    "    ~grouped_data_total.weighting.str.contains(\"Entropy\")\n",
    "]\n",
    "grouped_data_total = grouped_data_total[\n",
    "    ~grouped_data_total.weighting.str.contains(\"Prior\")\n",
    "]"
   ]
  },
  {
   "cell_type": "code",
   "execution_count": 82,
   "metadata": {},
   "outputs": [
    {
     "data": {
      "text/plain": [
       "array(['deberta', 'gpt2'], dtype=object)"
      ]
     },
     "execution_count": 82,
     "metadata": {},
     "output_type": "execute_result"
    }
   ],
   "source": [
    "grouped_data_total.model.unique()"
   ]
  },
  {
   "cell_type": "code",
   "execution_count": 83,
   "metadata": {},
   "outputs": [
    {
     "data": {
      "application/vnd.plotly.v1+json": {
       "config": {
        "plotlyServerURL": "https://plot.ly"
       },
       "data": [
        {
         "line": {
          "color": "rgb(11, 188, 214)",
          "dash": "dash",
          "width": 2
         },
         "mode": "lines",
         "name": "Weighted",
         "type": "scatter",
         "x": [
          2,
          3,
          4,
          5,
          6,
          7,
          8,
          9,
          10,
          21
         ],
         "y": [
          4.808997059108213,
          4.973534363642445,
          5.0511850095938104,
          5.128160177299264,
          5.191485055334381,
          5.2445888861374925,
          5.279623902466604,
          5.310947149800962,
          5.373193476768947,
          5.687683880285298
         ]
        },
        {
         "line": {
          "width": 0
         },
         "marker": {
          "color": "rgb(11, 188, 214)"
         },
         "mode": "lines",
         "name": "Upper Bound",
         "showlegend": false,
         "type": "scatter",
         "x": [
          2,
          3,
          4,
          5,
          6,
          7,
          8,
          9,
          10,
          21
         ],
         "y": [
          4.8919579987847985,
          5.0266902803858455,
          5.079956228033006,
          5.187594835474506,
          5.228330748491388,
          5.278817396489056,
          5.313193213273779,
          5.3434999836712365,
          5.43732765912461,
          5.710905382768546
         ]
        },
        {
         "fill": "tonexty",
         "line": {
          "width": 0
         },
         "marker": {
          "color": "rgb(11, 188, 214)"
         },
         "mode": "lines",
         "name": "Lower Bound",
         "showlegend": false,
         "type": "scatter",
         "x": [
          2,
          3,
          4,
          5,
          6,
          7,
          8,
          9,
          10,
          21
         ],
         "y": [
          4.726036119431628,
          4.9203784468990435,
          5.022413791154615,
          5.068725519124023,
          5.154639362177373,
          5.21036037578593,
          5.246054591659428,
          5.278394315930688,
          5.309059294413284,
          5.6644623778020495
         ]
        },
        {
         "line": {
          "color": "rgb(230, 98, 94)",
          "width": 2
         },
         "mode": "lines",
         "name": "Unweighted",
         "type": "scatter",
         "x": [
          2,
          3,
          4,
          5,
          10,
          21
         ],
         "y": [
          4.828597286903385,
          4.997683344228431,
          5.115137164946474,
          5.2099574498046,
          5.440864604306362,
          6.053128364127634
         ]
        },
        {
         "line": {
          "width": 0
         },
         "marker": {
          "color": "rgb(230, 98, 94)"
         },
         "mode": "lines",
         "name": "Upper Bound Uni",
         "showlegend": false,
         "type": "scatter",
         "x": [
          2,
          3,
          4,
          5,
          10,
          21
         ],
         "y": [
          4.905266105407236,
          5.0547832533921975,
          5.156821709644075,
          5.272490929834991,
          5.498787793639101,
          6.074497034801128
         ]
        },
        {
         "fill": "tonexty",
         "line": {
          "width": 0
         },
         "marker": {
          "color": "rgb(230, 98, 94)"
         },
         "mode": "lines",
         "name": "Lower Bound Uni",
         "showlegend": false,
         "type": "scatter",
         "x": [
          2,
          3,
          4,
          5,
          10,
          21
         ],
         "y": [
          4.751928468399534,
          4.940583435064664,
          5.073452620248874,
          5.14742396977421,
          5.382941414973622,
          6.031759693454139
         ]
        }
       ],
       "layout": {
        "font": {
         "family": "Times New Roman",
         "size": 30
        },
        "legend": {
         "x": 0.02,
         "xanchor": "left",
         "yanchor": "top"
        },
        "template": {
         "data": {
          "scatter": [
           {
            "type": "scatter"
           }
          ]
         }
        },
        "title": {
         "text": "deberta"
        },
        "xaxis": {
         "dtick": 5,
         "tickmode": "linear",
         "title": {
          "text": "#-Adapters used"
         }
        },
        "yaxis": {
         "dtick": 0.2,
         "tickmode": "linear",
         "title": {
          "text": "Avg. Perplexity"
         }
        }
       }
      }
     },
     "metadata": {},
     "output_type": "display_data"
    },
    {
     "data": {
      "application/vnd.plotly.v1+json": {
       "config": {
        "plotlyServerURL": "https://plot.ly"
       },
       "data": [
        {
         "line": {
          "color": "rgb(11, 188, 214)",
          "dash": "dash",
          "width": 2
         },
         "mode": "lines",
         "name": "Weighted",
         "type": "scatter",
         "x": [
          2,
          3,
          4,
          5,
          6,
          7,
          8,
          9,
          10,
          21
         ],
         "y": [
          22.608648921311495,
          22.405916180480297,
          22.407802689191,
          22.38817777765377,
          22.40299082572619,
          22.430304853104623,
          22.460499417564083,
          22.489543999450667,
          22.524229118408826,
          22.806450230475438
         ]
        },
        {
         "line": {
          "width": 0
         },
         "marker": {
          "color": "rgb(11, 188, 214)"
         },
         "mode": "lines",
         "name": "Upper Bound",
         "showlegend": false,
         "type": "scatter",
         "x": [
          2,
          3,
          4,
          5,
          6,
          7,
          8,
          9,
          10,
          21
         ],
         "y": [
          22.680597255849168,
          22.49856349509767,
          22.44503602910973,
          22.40997476804543,
          22.426442955052067,
          22.460476516801958,
          22.483024989309946,
          22.510142595338078,
          22.546479787736843,
          22.823074766783765
         ]
        },
        {
         "fill": "tonexty",
         "line": {
          "width": 0
         },
         "marker": {
          "color": "rgb(11, 188, 214)"
         },
         "mode": "lines",
         "name": "Lower Bound",
         "showlegend": false,
         "type": "scatter",
         "x": [
          2,
          3,
          4,
          5,
          6,
          7,
          8,
          9,
          10,
          21
         ],
         "y": [
          22.536700586773822,
          22.313268865862923,
          22.370569349272273,
          22.36638078726211,
          22.37953869640031,
          22.400133189407285,
          22.437973845818224,
          22.46894540356326,
          22.501978449080816,
          22.789825694167114
         ]
        },
        {
         "line": {
          "color": "rgb(230, 98, 94)",
          "width": 2
         },
         "mode": "lines",
         "name": "Unweighted",
         "type": "scatter",
         "x": [
          2,
          3,
          4,
          5,
          10,
          21
         ],
         "y": [
          22.637085181875964,
          22.453190060974308,
          22.46170580711924,
          22.45345670817061,
          22.580856913783663,
          23.177529674383027
         ]
        },
        {
         "line": {
          "width": 0
         },
         "marker": {
          "color": "rgb(230, 98, 94)"
         },
         "mode": "lines",
         "name": "Upper Bound Uni",
         "showlegend": false,
         "type": "scatter",
         "x": [
          2,
          3,
          4,
          5,
          10,
          21
         ],
         "y": [
          22.70948538903953,
          22.511871614607312,
          22.519944176179113,
          22.484706202586576,
          22.62330663520413,
          23.17753147271292
         ]
        },
        {
         "fill": "tonexty",
         "line": {
          "width": 0
         },
         "marker": {
          "color": "rgb(230, 98, 94)"
         },
         "mode": "lines",
         "name": "Lower Bound Uni",
         "showlegend": false,
         "type": "scatter",
         "x": [
          2,
          3,
          4,
          5,
          10,
          21
         ],
         "y": [
          22.5646849747124,
          22.394508507341307,
          22.40346743805937,
          22.422207213754643,
          22.538407192363195,
          23.177527876053134
         ]
        }
       ],
       "layout": {
        "font": {
         "family": "Times New Roman",
         "size": 30
        },
        "legend": {
         "x": 0.02,
         "xanchor": "left",
         "yanchor": "top"
        },
        "template": {
         "data": {
          "scatter": [
           {
            "type": "scatter"
           }
          ]
         }
        },
        "title": {
         "text": "gpt2"
        },
        "xaxis": {
         "dtick": 5,
         "tickmode": "linear",
         "title": {
          "text": "#-Adapters used"
         }
        },
        "yaxis": {
         "dtick": 0.2,
         "tickmode": "linear",
         "title": {
          "text": "Avg. Perplexity"
         }
        }
       }
      }
     },
     "metadata": {},
     "output_type": "display_data"
    }
   ],
   "source": [
    "grouped_data_total = grouped_data_total[\n",
    "    ~grouped_data_total.weighting.str.contains(\"Entropy\")\n",
    "]\n",
    "grouped_data_total = grouped_data_total[\n",
    "    ~grouped_data_total.weighting.str.contains(\"Prior\")\n",
    "]\n",
    "\n",
    "grouped_data_total.loc[\n",
    "    grouped_data_total.weighting.str.contains(\"Uniform\"), \"weighting\"\n",
    "] = \"uniform\"\n",
    "grouped_data_total.loc[\n",
    "    grouped_data_total.weighting.str.contains(\"TF-IDF\"), \"weighting\"\n",
    "] = \"weighted\"\n",
    "grouped_data_total.loc[\n",
    "    grouped_data_total.weighting.str.contains(\"Sentence Sim\"), \"weighting\"\n",
    "] = \"weighted\"\n",
    "\n",
    "grouped_data_total = (\n",
    "    grouped_data_total.groupby([\"model\", \"weighting\", \"topk\"]).mean().reset_index()\n",
    ")\n",
    "\n",
    "color_list = px.colors.qualitative.Set2\n",
    "\n",
    "\n",
    "template = \"plotly_white\"\n",
    "\n",
    "for model in [\"deberta\", \"gpt2\"]:\n",
    "    i = 2\n",
    "    fig = go.Figure()\n",
    "\n",
    "    tmp = grouped_data_total[\n",
    "        (grouped_data_total[\"weighting\"] == \"weighted\")\n",
    "        & (grouped_data_total[\"model\"] == model)\n",
    "    ]\n",
    "\n",
    "    fig.add_trace(\n",
    "        go.Scatter(\n",
    "            name=\"Weighted\",\n",
    "            x=tmp[\"topk\"],\n",
    "            y=tmp[\"mean\"],\n",
    "            mode=\"lines\",\n",
    "            line=dict(color=\"rgb(11, 188, 214)\", width=2, dash=\"dash\"),\n",
    "        )\n",
    "    )\n",
    "    fig.add_trace(\n",
    "        go.Scatter(\n",
    "            name=\"Upper Bound\",\n",
    "            x=tmp[\"topk\"],\n",
    "            y=tmp[\"upper_bound\"],\n",
    "            mode=\"lines\",\n",
    "            marker=dict(color=\"rgb(11, 188, 214)\"),\n",
    "            line=dict(width=0),\n",
    "            showlegend=False,\n",
    "        )\n",
    "    )\n",
    "    fig.add_trace(\n",
    "        go.Scatter(\n",
    "            name=\"Lower Bound\",\n",
    "            x=tmp[\"topk\"],\n",
    "            y=tmp[\"lower_bound\"],\n",
    "            marker=dict(color=\"rgb(11, 188, 214)\"),\n",
    "            line=dict(width=0),\n",
    "            mode=\"lines\",\n",
    "            fill=\"tonexty\",\n",
    "            showlegend=False,\n",
    "        )\n",
    "    )\n",
    "\n",
    "    tmp_uni = grouped_data_total[\n",
    "        (grouped_data_total[\"weighting\"] == \"uniform\")\n",
    "        & (grouped_data_total[\"model\"] == model)\n",
    "    ]\n",
    "\n",
    "    fig.add_trace(\n",
    "        go.Scatter(\n",
    "            name=\"Unweighted\",\n",
    "            x=tmp_uni[\"topk\"],\n",
    "            y=tmp_uni[\"mean\"],\n",
    "            mode=\"lines\",\n",
    "            line=dict(color=\"rgb(230, 98, 94)\", width=2),\n",
    "        )\n",
    "    )\n",
    "    fig.add_trace(\n",
    "        go.Scatter(\n",
    "            name=\"Upper Bound Uni\",\n",
    "            x=tmp_uni[\"topk\"],\n",
    "            y=tmp_uni[\"upper_bound\"],\n",
    "            mode=\"lines\",\n",
    "            marker=dict(color=\"rgb(230, 98, 94)\"),\n",
    "            line=dict(width=0),\n",
    "            showlegend=False,\n",
    "        )\n",
    "    )\n",
    "    fig.add_trace(\n",
    "        go.Scatter(\n",
    "            name=\"Lower Bound Uni\",\n",
    "            x=tmp_uni[\"topk\"],\n",
    "            y=tmp_uni[\"lower_bound\"],\n",
    "            marker=dict(color=\"rgb(230, 98, 94)\"),\n",
    "            line=dict(width=0),\n",
    "            mode=\"lines\",\n",
    "            fill=\"tonexty\",\n",
    "            showlegend=False,\n",
    "        )\n",
    "    )\n",
    "    i += 1\n",
    "\n",
    "    # Edit the layout\n",
    "    fig.update_layout(\n",
    "        title=model,\n",
    "        xaxis_title=\"#-Adapters used\",\n",
    "        yaxis_title=\"Avg. Perplexity\",\n",
    "        font_family=\"Times New Roman\",\n",
    "        xaxis=dict(tickmode=\"linear\", dtick=5),\n",
    "        yaxis=dict(tickmode=\"linear\", dtick=0.2),\n",
    "        font=dict(size=30),\n",
    "        legend=dict(yanchor=\"top\", xanchor=\"left\", x=0.02),\n",
    "    )\n",
    "\n",
    "    fig.show()"
   ]
  },
  {
   "cell_type": "markdown",
   "metadata": {},
   "source": [
    "## 4. Efficiency"
   ]
  },
  {
   "cell_type": "code",
   "execution_count": 86,
   "metadata": {},
   "outputs": [],
   "source": [
    "df_eff = pd.read_excel(\"../data/efficiency_calculcation.xlsx\")\n",
    "\n",
    "df_eff = df_eff[~df_eff[\"time\"].isnull()]\n",
    "\n",
    "df_eff_combined = df_eff.copy()\n",
    "df_eff_combined.loc[\n",
    "    df_eff_combined[\"calculcation\"] == \"Prior\", \"calculcation\"\n",
    "] = \"Prior AVG\"\n",
    "df_eff_combined.loc[\n",
    "    df_eff_combined[\"calculcation\"] == \"Entropy\", \"calculcation\"\n",
    "] = \"Entropy AVG\"\n",
    "df_eff_combined.loc[\n",
    "    df_eff_combined[\"calculcation\"] == \"TF-IDF\", \"calculcation\"\n",
    "] = \"TF-IDF AVG\"\n",
    "df_eff_combined.loc[\n",
    "    df_eff_combined[\"calculcation\"] == \"Sentence Sim\", \"calculcation\"\n",
    "] = \"Sentence Sim AVG\"\n",
    "\n",
    "df_eff_combined.loc[df_eff_combined[\"model\"] == \"deberta\", \"model\"] = \"Deberta\"\n",
    "df_eff_combined.loc[df_eff_combined[\"model\"] == \"gpt2\", \"model\"] = \"GPT-2\"\n",
    "\n",
    "\n",
    "for calculation in [\"Prior\", \"Entropy\", \"TF-IDF\", \"Sentence Sim\"]:\n",
    "    calc_string = calculation + \" AVG\"\n",
    "    for index in df_eff_combined[df_eff_combined.calculcation == calc_string].index:\n",
    "        df_eff_combined = df_eff_combined.append(\n",
    "            df_eff_combined.loc[[index] * 1].assign(\n",
    "                **{\"calculcation\": calculation + \" ENS\"}\n",
    "            )\n",
    "        )\n",
    "\n",
    "\n",
    "for dataset in df_eff_combined.dataset.unique():\n",
    "    for adapters in df_eff_combined.adapters.unique():\n",
    "        for model in df_eff_combined.model.unique():\n",
    "            for seed in df_eff_combined.Seed.unique():\n",
    "                if (\n",
    "                    len(\n",
    "                        df_eff_combined[\n",
    "                            (df_eff_combined.dataset == dataset)\n",
    "                            & (df_eff_combined.adapters == adapters)\n",
    "                            & (df_eff_combined.model == model)\n",
    "                            & (df_eff_combined.Seed == seed)\n",
    "                            & (df_eff_combined.calculcation == \"Averaging\")\n",
    "                        ][\"CO2 Emission\"].values\n",
    "                    )\n",
    "                    == 1\n",
    "                ):\n",
    "                    avg_val = df_eff_combined[\n",
    "                        (df_eff_combined.dataset == dataset)\n",
    "                        & (df_eff_combined.adapters == adapters)\n",
    "                        & (df_eff_combined.model == model)\n",
    "                        & (df_eff_combined.Seed == seed)\n",
    "                        & (df_eff_combined.calculcation == \"Averaging\")\n",
    "                    ][\"CO2 Emission\"].values[0]\n",
    "\n",
    "                    df_eff_combined.loc[\n",
    "                        (df_eff_combined.dataset == dataset)\n",
    "                        & (df_eff_combined.adapters == adapters)\n",
    "                        & (df_eff_combined.model == model)\n",
    "                        & (df_eff_combined.Seed == seed)\n",
    "                        & (df_eff_combined.calculcation.str.contains(\"AVG\")),\n",
    "                        \"CO2 Emission\",\n",
    "                    ] += avg_val\n",
    "\n",
    "                if (\n",
    "                    len(\n",
    "                        df_eff_combined[\n",
    "                            (df_eff_combined.dataset == dataset)\n",
    "                            & (df_eff_combined.adapters == adapters)\n",
    "                            & (df_eff_combined.model == model)\n",
    "                            & (df_eff_combined.Seed == seed)\n",
    "                            & (df_eff_combined.calculcation == \"Ensembling\")\n",
    "                        ][\"CO2 Emission\"].values\n",
    "                    )\n",
    "                    == 1\n",
    "                ):\n",
    "                    avg_val = df_eff_combined[\n",
    "                        (df_eff_combined.dataset == dataset)\n",
    "                        & (df_eff_combined.adapters == adapters)\n",
    "                        & (df_eff_combined.model == model)\n",
    "                        & (df_eff_combined.Seed == seed)\n",
    "                        & (df_eff_combined.calculcation == \"Ensembling\")\n",
    "                    ][\"CO2 Emission\"].values[0]\n",
    "\n",
    "                    df_eff_combined.loc[\n",
    "                        (df_eff_combined.dataset == dataset)\n",
    "                        & (df_eff_combined.adapters == adapters)\n",
    "                        & (df_eff_combined.model == model)\n",
    "                        & (df_eff_combined.Seed == seed)\n",
    "                        & (df_eff_combined.calculcation.str.contains(\"ENS\")),\n",
    "                        \"CO2 Emission\",\n",
    "                    ] += avg_val\n",
    "\n",
    "\n",
    "grouped_data = df_eff_combined.groupby(by=[\"model\", \"calculcation\", \"adapters\"])[\n",
    "    \"CO2 Emission\"\n",
    "].agg([np.mean, np.std])\n",
    "group_sizes = df_eff_combined.groupby(by=[\"model\", \"calculcation\", \"adapters\"]).size()\n",
    "standard_error = grouped_data[\"std\"] / np.sqrt(group_sizes)\n",
    "confidence_level = 0.95\n",
    "margin_of_error = (\n",
    "    stats.t.ppf((1 + confidence_level) / 2, group_sizes - 1) * standard_error\n",
    ")\n",
    "grouped_data[\"lower_bound\"] = grouped_data[\"mean\"] - margin_of_error\n",
    "grouped_data[\"upper_bound\"] = grouped_data[\"mean\"] + margin_of_error\n",
    "grouped_data = grouped_data.reset_index()\n",
    "\n",
    "df_eff_combined = (\n",
    "    df_eff_combined.groupby(by=[\"model\", \"calculcation\", \"adapters\"])\n",
    "    .mean()\n",
    "    .reset_index()\n",
    ")"
   ]
  },
  {
   "cell_type": "code",
   "execution_count": 89,
   "metadata": {},
   "outputs": [
    {
     "data": {
      "application/vnd.plotly.v1+json": {
       "config": {
        "plotlyServerURL": "https://plot.ly"
       },
       "data": [
        {
         "line": {
          "color": "rgb(102,194,165)",
          "width": 2
         },
         "marker": {
          "size": 10
         },
         "name": "Sentence Sim",
         "type": "scatter",
         "x": [
          1,
          10,
          21
         ],
         "y": [
          4.925455826388217,
          4.937416440946111,
          4.967296782883836
         ]
        },
        {
         "line": {
          "width": 0
         },
         "marker": {
          "color": "rgb(102,194,165)"
         },
         "mode": "lines",
         "name": "Upper Bound",
         "showlegend": false,
         "type": "scatter",
         "x": [
          1,
          10,
          21
         ],
         "y": [
          5.614765742814615,
          5.630570967195335,
          5.838055589531547
         ]
        },
        {
         "fill": "tonexty",
         "fillcolor": "rgba(102,194,165, 0.25)",
         "line": {
          "width": 0
         },
         "marker": {
          "color": "rgb(102,194,165)"
         },
         "mode": "lines",
         "name": "Lower Bound",
         "showlegend": false,
         "type": "scatter",
         "x": [
          1,
          10,
          21
         ],
         "y": [
          4.236145909961818,
          4.244261914696888,
          4.096537976236125
         ]
        },
        {
         "line": {
          "color": "rgb(102,194,165)",
          "dash": "dash",
          "width": 2
         },
         "marker": {
          "size": 10
         },
         "name": "Sentence Sim",
         "showlegend": false,
         "type": "scatter",
         "x": [
          1,
          10,
          21
         ],
         "y": [
          11.281836237138922,
          82.30564940571016,
          167.94154500237386
         ]
        },
        {
         "line": {
          "width": 0
         },
         "marker": {
          "color": "rgb(102,194,165)"
         },
         "mode": "lines",
         "name": "Upper Bound",
         "showlegend": false,
         "type": "scatter",
         "x": [
          1,
          10,
          21
         ],
         "y": [
          13.387918356883993,
          98.39686421036774,
          200.2711222225714
         ]
        },
        {
         "fill": "tonexty",
         "fillcolor": "rgba(102,194,165, 0.25)",
         "line": {
          "width": 0
         },
         "marker": {
          "color": "rgb(102,194,165)"
         },
         "mode": "lines",
         "name": "Lower Bound",
         "showlegend": false,
         "type": "scatter",
         "x": [
          1,
          10,
          21
         ],
         "y": [
          9.17575411739385,
          66.21443460105257,
          135.61196778217632
         ]
        },
        {
         "line": {
          "color": "rgb(252,141,98)",
          "width": 2
         },
         "marker": {
          "size": 10
         },
         "name": "TF-IDF",
         "type": "scatter",
         "x": [
          1,
          10,
          21
         ],
         "y": [
          5.301832917018649,
          5.314953359417948,
          5.335322883908699
         ]
        },
        {
         "line": {
          "width": 0
         },
         "marker": {
          "color": "rgb(252,141,98)"
         },
         "mode": "lines",
         "name": "Upper Bound",
         "showlegend": false,
         "type": "scatter",
         "x": [
          1,
          10,
          21
         ],
         "y": [
          6.00713055368813,
          6.024035186020037,
          6.217513405457831
         ]
        },
        {
         "fill": "tonexty",
         "fillcolor": "rgba(252,141,98, 0.25)",
         "line": {
          "width": 0
         },
         "marker": {
          "color": "rgb(252,141,98)"
         },
         "mode": "lines",
         "name": "Lower Bound",
         "showlegend": false,
         "type": "scatter",
         "x": [
          1,
          10,
          21
         ],
         "y": [
          4.596535280349167,
          4.605871532815859,
          4.453132362359566
         ]
        },
        {
         "line": {
          "color": "rgb(252,141,98)",
          "dash": "dash",
          "width": 2
         },
         "marker": {
          "size": 10
         },
         "name": "TF-IDF",
         "showlegend": false,
         "type": "scatter",
         "x": [
          1,
          10,
          21
         ],
         "y": [
          11.658213327769356,
          82.68318632418199,
          168.30957110339872
         ]
        },
        {
         "line": {
          "width": 0
         },
         "marker": {
          "color": "rgb(252,141,98)"
         },
         "mode": "lines",
         "name": "Upper Bound",
         "showlegend": false,
         "type": "scatter",
         "x": [
          1,
          10,
          21
         ],
         "y": [
          13.780175382482756,
          98.788718096465,
          200.65456613451278
         ]
        },
        {
         "fill": "tonexty",
         "fillcolor": "rgba(252,141,98, 0.25)",
         "line": {
          "width": 0
         },
         "marker": {
          "color": "rgb(252,141,98)"
         },
         "mode": "lines",
         "name": "Lower Bound",
         "showlegend": false,
         "type": "scatter",
         "x": [
          1,
          10,
          21
         ],
         "y": [
          9.536251273055957,
          66.57765455189897,
          135.96457607228467
         ]
        },
        {
         "line": {
          "color": "rgb(141,160,203)",
          "width": 2
         },
         "marker": {
          "size": 10
         },
         "name": "Entropy",
         "type": "scatter",
         "x": [
          1,
          10,
          21
         ],
         "y": [
          90.28583447901904,
          91.57381968036293,
          90.99418131175636
         ]
        },
        {
         "line": {
          "width": 0
         },
         "marker": {
          "color": "rgb(141,160,203)"
         },
         "mode": "lines",
         "name": "Upper Bound",
         "showlegend": false,
         "type": "scatter",
         "x": [
          1,
          10,
          21
         ],
         "y": [
          107.6091895371545,
          109.1212620166232,
          108.47503797631242
         ]
        },
        {
         "fill": "tonexty",
         "fillcolor": "rgba(141,160,203, 0.25)",
         "line": {
          "width": 0
         },
         "marker": {
          "color": "rgb(141,160,203)"
         },
         "mode": "lines",
         "name": "Lower Bound",
         "showlegend": false,
         "type": "scatter",
         "x": [
          1,
          10,
          21
         ],
         "y": [
          72.96247942088358,
          74.02637734410266,
          73.5133246472003
         ]
        },
        {
         "line": {
          "color": "rgb(141,160,203)",
          "dash": "dash",
          "width": 2
         },
         "marker": {
          "size": 10
         },
         "name": "Entropy",
         "showlegend": false,
         "type": "scatter",
         "x": [
          1,
          10,
          21
         ],
         "y": [
          96.64221488976975,
          168.94205264512698,
          253.96842953124641
         ]
        },
        {
         "line": {
          "width": 0
         },
         "marker": {
          "color": "rgb(141,160,203)"
         },
         "mode": "lines",
         "name": "Upper Bound",
         "showlegend": false,
         "type": "scatter",
         "x": [
          1,
          10,
          21
         ],
         "y": [
          115.37957934338793,
          201.64307804546718,
          303.00370750242075
         ]
        },
        {
         "fill": "tonexty",
         "fillcolor": "rgba(141,160,203, 0.25)",
         "line": {
          "width": 0
         },
         "marker": {
          "color": "rgb(141,160,203)"
         },
         "mode": "lines",
         "name": "Lower Bound",
         "showlegend": false,
         "type": "scatter",
         "x": [
          1,
          10,
          21
         ],
         "y": [
          77.90485043615156,
          136.24102724478678,
          204.93315156007208
         ]
        },
        {
         "line": {
          "color": "rgb(231,138,195)",
          "width": 2
         },
         "marker": {
          "size": 10
         },
         "name": "Prior",
         "type": "scatter",
         "x": [
          1,
          10,
          21
         ],
         "y": [
          17.931928279777367,
          17.993324213062724,
          19.02148227629757
         ]
        },
        {
         "line": {
          "width": 0
         },
         "marker": {
          "color": "rgb(231,138,195)"
         },
         "mode": "lines",
         "name": "Upper Bound",
         "showlegend": false,
         "type": "scatter",
         "x": [
          1,
          10,
          21
         ],
         "y": [
          18.62349011246253,
          18.72903168591873,
          20.180490877365422
         ]
        },
        {
         "fill": "tonexty",
         "fillcolor": "rgba(231,138,195, 0.25)",
         "line": {
          "width": 0
         },
         "marker": {
          "color": "rgb(231,138,195)"
         },
         "mode": "lines",
         "name": "Lower Bound",
         "showlegend": false,
         "type": "scatter",
         "x": [
          1,
          10,
          21
         ],
         "y": [
          17.240366447092203,
          17.257616740206718,
          17.862473675229715
         ]
        },
        {
         "line": {
          "color": "rgb(231,138,195)",
          "dash": "dash",
          "width": 2
         },
         "marker": {
          "size": 10
         },
         "name": "Prior",
         "showlegend": false,
         "type": "scatter",
         "x": [
          1,
          10,
          21
         ],
         "y": [
          24.288308690528073,
          95.36155717782675,
          181.99573049578763
         ]
        },
        {
         "line": {
          "width": 0
         },
         "marker": {
          "color": "rgb(231,138,195)"
         },
         "mode": "lines",
         "name": "Upper Bound",
         "showlegend": false,
         "type": "scatter",
         "x": [
          1,
          10,
          21
         ],
         "y": [
          26.369605100929494,
          111.46718564526799,
          214.3403296538014
         ]
        },
        {
         "fill": "tonexty",
         "fillcolor": "rgba(231,138,195, 0.25)",
         "line": {
          "width": 0
         },
         "marker": {
          "color": "rgb(231,138,195)"
         },
         "mode": "lines",
         "name": "Lower Bound",
         "showlegend": false,
         "type": "scatter",
         "x": [
          1,
          10,
          21
         ],
         "y": [
          22.20701228012665,
          79.25592871038552,
          149.65113133777385
         ]
        }
       ],
       "layout": {
        "font": {
         "family": "Times New Roman",
         "size": 28
        },
        "legend": {
         "bgcolor": "rgba(0,0,0,0)",
         "font": {
          "size": 24
         },
         "traceorder": "normal",
         "x": 0.015,
         "xanchor": "left",
         "y": 1.015,
         "yanchor": "top"
        },
        "template": {
         "data": {
          "scatter": [
           {
            "type": "scatter"
           }
          ]
         }
        },
        "title": {
         "text": "Deberta"
        },
        "xaxis": {
         "title": {
          "text": "#-Adapters"
         }
        },
        "yaxis": {
         "title": {
          "text": "CO₂ Emissions"
         }
        }
       }
      }
     },
     "metadata": {},
     "output_type": "display_data"
    },
    {
     "data": {
      "application/vnd.plotly.v1+json": {
       "config": {
        "plotlyServerURL": "https://plot.ly"
       },
       "data": [
        {
         "line": {
          "color": "rgb(102,194,165)",
          "width": 2
         },
         "marker": {
          "size": 10
         },
         "name": "Sentence Sim",
         "type": "scatter",
         "x": [
          1,
          10,
          21
         ],
         "y": [
          3.905287522277649,
          3.918457430144813,
          3.909036524253338
         ]
        },
        {
         "line": {
          "width": 0
         },
         "marker": {
          "color": "rgb(102,194,165)"
         },
         "mode": "lines",
         "name": "Upper Bound",
         "showlegend": false,
         "type": "scatter",
         "x": [
          1,
          10,
          21
         ],
         "y": [
          4.55972452281494,
          4.573273367710646,
          4.564481592579898
         ]
        },
        {
         "fill": "tonexty",
         "fillcolor": "rgba(102,194,165, 0.25)",
         "line": {
          "width": 0
         },
         "marker": {
          "color": "rgb(102,194,165)"
         },
         "mode": "lines",
         "name": "Lower Bound",
         "showlegend": false,
         "type": "scatter",
         "x": [
          1,
          10,
          21
         ],
         "y": [
          3.2508505217403583,
          3.2636414925789805,
          3.2535914559267782
         ]
        },
        {
         "line": {
          "color": "rgb(102,194,165)",
          "dash": "dash",
          "width": 2
         },
         "marker": {
          "size": 10
         },
         "name": "Sentence Sim",
         "showlegend": false,
         "type": "scatter",
         "x": [
          1,
          10,
          21
         ],
         "y": [
          2.176975436897493,
          14.530877734661763,
          29.311790064401674
         ]
        },
        {
         "line": {
          "width": 0
         },
         "marker": {
          "color": "rgb(102,194,165)"
         },
         "mode": "lines",
         "name": "Upper Bound",
         "showlegend": false,
         "type": "scatter",
         "x": [
          1,
          10,
          21
         ],
         "y": [
          2.523597712042302,
          17.327476357841793,
          34.98606310311648
         ]
        },
        {
         "fill": "tonexty",
         "fillcolor": "rgba(102,194,165, 0.25)",
         "line": {
          "width": 0
         },
         "marker": {
          "color": "rgb(102,194,165)"
         },
         "mode": "lines",
         "name": "Lower Bound",
         "showlegend": false,
         "type": "scatter",
         "x": [
          1,
          10,
          21
         ],
         "y": [
          1.830353161752684,
          11.734279111481733,
          23.637517025686872
         ]
        },
        {
         "line": {
          "color": "rgb(252,141,98)",
          "width": 2
         },
         "marker": {
          "size": 10
         },
         "name": "TF-IDF",
         "type": "scatter",
         "x": [
          1,
          10,
          21
         ],
         "y": [
          4.286815442478905,
          4.2962787885425815,
          4.279196451636404
         ]
        },
        {
         "line": {
          "width": 0
         },
         "marker": {
          "color": "rgb(252,141,98)"
         },
         "mode": "lines",
         "name": "Upper Bound",
         "showlegend": false,
         "type": "scatter",
         "x": [
          1,
          10,
          21
         ],
         "y": [
          4.958319980330004,
          4.966846683312904,
          4.950604370831316
         ]
        },
        {
         "fill": "tonexty",
         "fillcolor": "rgba(252,141,98, 0.25)",
         "line": {
          "width": 0
         },
         "marker": {
          "color": "rgb(252,141,98)"
         },
         "mode": "lines",
         "name": "Lower Bound",
         "showlegend": false,
         "type": "scatter",
         "x": [
          1,
          10,
          21
         ],
         "y": [
          3.6153109046278056,
          3.625710893772259,
          3.607788532441491
         ]
        },
        {
         "line": {
          "color": "rgb(252,141,98)",
          "dash": "dash",
          "width": 2
         },
         "marker": {
          "size": 10
         },
         "name": "TF-IDF",
         "showlegend": false,
         "type": "scatter",
         "x": [
          1,
          10,
          21
         ],
         "y": [
          2.558503357098748,
          14.908699093059534,
          29.68194999178474
         ]
        },
        {
         "line": {
          "width": 0
         },
         "marker": {
          "color": "rgb(252,141,98)"
         },
         "mode": "lines",
         "name": "Upper Bound",
         "showlegend": false,
         "type": "scatter",
         "x": [
          1,
          10,
          21
         ],
         "y": [
          2.922413600116138,
          17.72102716881874,
          35.37232708236659
         ]
        },
        {
         "fill": "tonexty",
         "fillcolor": "rgba(252,141,98, 0.25)",
         "line": {
          "width": 0
         },
         "marker": {
          "color": "rgb(252,141,98)"
         },
         "mode": "lines",
         "name": "Lower Bound",
         "showlegend": false,
         "type": "scatter",
         "x": [
          1,
          10,
          21
         ],
         "y": [
          2.194593114081358,
          12.096371017300328,
          23.991572901202897
         ]
        },
        {
         "line": {
          "color": "rgb(141,160,203)",
          "width": 2
         },
         "marker": {
          "size": 10
         },
         "name": "Entropy",
         "type": "scatter",
         "x": [
          1,
          10,
          21
         ],
         "y": [
          35.807803508301575,
          35.75524141622086,
          35.771303558642664
         ]
        },
        {
         "line": {
          "width": 0
         },
         "marker": {
          "color": "rgb(141,160,203)"
         },
         "mode": "lines",
         "name": "Upper Bound",
         "showlegend": false,
         "type": "scatter",
         "x": [
          1,
          10,
          21
         ],
         "y": [
          42.70180602164004,
          42.634245012985765,
          42.65879244546966
         ]
        },
        {
         "fill": "tonexty",
         "fillcolor": "rgba(141,160,203, 0.25)",
         "line": {
          "width": 0
         },
         "marker": {
          "color": "rgb(141,160,203)"
         },
         "mode": "lines",
         "name": "Lower Bound",
         "showlegend": false,
         "type": "scatter",
         "x": [
          1,
          10,
          21
         ],
         "y": [
          28.913800994963115,
          28.876237819455962,
          28.88381467181567
         ]
        },
        {
         "line": {
          "color": "rgb(141,160,203)",
          "dash": "dash",
          "width": 2
         },
         "marker": {
          "size": 10
         },
         "name": "Entropy",
         "showlegend": false,
         "type": "scatter",
         "x": [
          1,
          10,
          21
         ],
         "y": [
          34.079491422921414,
          46.367661720737814,
          61.174057098791
         ]
        },
        {
         "line": {
          "width": 0
         },
         "marker": {
          "color": "rgb(141,160,203)"
         },
         "mode": "lines",
         "name": "Upper Bound",
         "showlegend": false,
         "type": "scatter",
         "x": [
          1,
          10,
          21
         ],
         "y": [
          40.66548637555914,
          55.38781241905863,
          73.070914807934
         ]
        },
        {
         "fill": "tonexty",
         "fillcolor": "rgba(141,160,203, 0.25)",
         "line": {
          "width": 0
         },
         "marker": {
          "color": "rgb(141,160,203)"
         },
         "mode": "lines",
         "name": "Lower Bound",
         "showlegend": false,
         "type": "scatter",
         "x": [
          1,
          10,
          21
         ],
         "y": [
          27.49349647028369,
          37.347511022416995,
          49.277199389648004
         ]
        },
        {
         "line": {
          "color": "rgb(231,138,195)",
          "width": 2
         },
         "marker": {
          "size": 10
         },
         "name": "Prior",
         "type": "scatter",
         "x": [
          1,
          10,
          21
         ],
         "y": [
          19.799189820339283,
          19.69237006654342,
          19.55819462198516
         ]
        },
        {
         "line": {
          "width": 0
         },
         "marker": {
          "color": "rgb(231,138,195)"
         },
         "mode": "lines",
         "name": "Upper Bound",
         "showlegend": false,
         "type": "scatter",
         "x": [
          1,
          10,
          21
         ],
         "y": [
          20.47188462718408,
          20.36751031966635,
          20.262685326345494
         ]
        },
        {
         "fill": "tonexty",
         "fillcolor": "rgba(231,138,195, 0.25)",
         "line": {
          "width": 0
         },
         "marker": {
          "color": "rgb(231,138,195)"
         },
         "mode": "lines",
         "name": "Lower Bound",
         "showlegend": false,
         "type": "scatter",
         "x": [
          1,
          10,
          21
         ],
         "y": [
          19.126495013494484,
          19.017229813420485,
          18.853703917624824
         ]
        },
        {
         "line": {
          "color": "rgb(231,138,195)",
          "dash": "dash",
          "width": 2
         },
         "marker": {
          "size": 10
         },
         "name": "Prior",
         "showlegend": false,
         "type": "scatter",
         "x": [
          1,
          10,
          21
         ],
         "y": [
          18.070877734959126,
          30.30479037106037,
          44.96094816213349
         ]
        },
        {
         "line": {
          "width": 0
         },
         "marker": {
          "color": "rgb(231,138,195)"
         },
         "mode": "lines",
         "name": "Upper Bound",
         "showlegend": false,
         "type": "scatter",
         "x": [
          1,
          10,
          21
         ],
         "y": [
          18.461536608110535,
          33.092650926120804,
          50.64420140948547
         ]
        },
        {
         "fill": "tonexty",
         "fillcolor": "rgba(231,138,195, 0.25)",
         "line": {
          "width": 0
         },
         "marker": {
          "color": "rgb(231,138,195)"
         },
         "mode": "lines",
         "name": "Lower Bound",
         "showlegend": false,
         "type": "scatter",
         "x": [
          1,
          10,
          21
         ],
         "y": [
          17.680218861807717,
          27.516929815999937,
          39.27769491478151
         ]
        }
       ],
       "layout": {
        "font": {
         "family": "Times New Roman",
         "size": 28
        },
        "legend": {
         "bgcolor": "rgba(0,0,0,0)",
         "font": {
          "size": 24
         },
         "traceorder": "normal",
         "x": 0.015,
         "xanchor": "left",
         "y": 1.015,
         "yanchor": "top"
        },
        "template": {
         "data": {
          "scatter": [
           {
            "type": "scatter"
           }
          ]
         }
        },
        "title": {
         "text": "GPT-2"
        },
        "xaxis": {
         "title": {
          "text": "#-Adapters"
         }
        },
        "yaxis": {
         "title": {
          "text": "CO₂ Emissions"
         }
        }
       }
      }
     },
     "metadata": {},
     "output_type": "display_data"
    }
   ],
   "source": [
    "import re\n",
    "\n",
    "color_list = px.colors.qualitative.Set2\n",
    "\n",
    "\n",
    "template = \"plotly_white\"\n",
    "\n",
    "for model in df_eff_combined.model.unique():\n",
    "    fig = go.Figure()\n",
    "\n",
    "    k = 0\n",
    "\n",
    "    for weighting in [\"Sentence Sim\", \"TF-IDF\", \"Entropy\", \"Prior\"]:\n",
    "        tmp_avg = grouped_data[\n",
    "            (grouped_data.model == model)\n",
    "            & (grouped_data.calculcation == weighting + \" AVG\")\n",
    "        ]\n",
    "\n",
    "        fig.add_trace(\n",
    "            go.Scatter(\n",
    "                x=tmp_avg[\"adapters\"],\n",
    "                y=tmp_avg[\"mean\"],\n",
    "                name=weighting,\n",
    "                marker=dict(\n",
    "                    size=10,\n",
    "                ),\n",
    "                line=dict(color=color_list[k], width=2),\n",
    "            )\n",
    "        )\n",
    "\n",
    "        fig.add_trace(\n",
    "            go.Scatter(\n",
    "                name=\"Upper Bound\",\n",
    "                x=tmp_avg[\"adapters\"],\n",
    "                y=tmp_avg[\"upper_bound\"],\n",
    "                mode=\"lines\",\n",
    "                showlegend=False,\n",
    "                marker=dict(color=color_list[k]),\n",
    "                line=dict(width=0),\n",
    "            )\n",
    "        )\n",
    "        # Create rgba value string\n",
    "        rgb = color_list[k]\n",
    "        parsed_rgb = re.search(r\"(\\d+),(\\d+),(\\d+)\", rgb)\n",
    "        rgba_string = (\n",
    "            \"rgba(\"\n",
    "            + parsed_rgb[1]\n",
    "            + \",\"\n",
    "            + parsed_rgb[2]\n",
    "            + \",\"\n",
    "            + parsed_rgb[3]\n",
    "            + \", 0.25)\"\n",
    "        )\n",
    "        fig.add_trace(\n",
    "            go.Scatter(\n",
    "                name=\"Lower Bound\",\n",
    "                x=tmp_avg[\"adapters\"],\n",
    "                y=tmp_avg[\"lower_bound\"],\n",
    "                marker=dict(color=color_list[k]),\n",
    "                line=dict(width=0),\n",
    "                showlegend=False,\n",
    "                fillcolor=rgba_string,\n",
    "                mode=\"lines\",\n",
    "                fill=\"tonexty\",\n",
    "            )\n",
    "        )\n",
    "\n",
    "        tmp_ens = grouped_data[\n",
    "            (grouped_data.model == model)\n",
    "            & (grouped_data.calculcation == weighting + \" ENS\")\n",
    "        ]\n",
    "\n",
    "        fig.add_trace(\n",
    "            go.Scatter(\n",
    "                x=tmp_ens[\"adapters\"],\n",
    "                y=tmp_ens[\"mean\"],\n",
    "                name=weighting,\n",
    "                showlegend=False,\n",
    "                marker=dict(\n",
    "                    size=10,\n",
    "                ),\n",
    "                line=dict(color=color_list[k], width=2, dash=\"dash\"),\n",
    "            )\n",
    "        )\n",
    "\n",
    "        fig.add_trace(\n",
    "            go.Scatter(\n",
    "                name=\"Upper Bound\",\n",
    "                x=tmp_ens[\"adapters\"],\n",
    "                y=tmp_ens[\"upper_bound\"],\n",
    "                mode=\"lines\",\n",
    "                showlegend=False,\n",
    "                marker=dict(color=color_list[k]),\n",
    "                line=dict(width=0),\n",
    "            )\n",
    "        )\n",
    "        fig.add_trace(\n",
    "            go.Scatter(\n",
    "                name=\"Lower Bound\",\n",
    "                x=tmp_ens[\"adapters\"],\n",
    "                y=tmp_ens[\"lower_bound\"],\n",
    "                marker=dict(color=color_list[k]),\n",
    "                line=dict(width=0),\n",
    "                fillcolor=rgba_string,\n",
    "                showlegend=False,\n",
    "                mode=\"lines\",\n",
    "                fill=\"tonexty\",\n",
    "            )\n",
    "        )\n",
    "\n",
    "        fig.update_layout(\n",
    "            title=model,\n",
    "            font=dict(size=28),\n",
    "            xaxis_title=\"#-Adapters\",\n",
    "            yaxis_title=\"CO₂ Emissions\",\n",
    "            font_family=\"Times New Roman\",\n",
    "            legend=dict(\n",
    "                font=dict(size=24),\n",
    "                yanchor=\"top\",\n",
    "                xanchor=\"left\",\n",
    "                x=0.015,\n",
    "                y=1.015,\n",
    "                traceorder=\"normal\",\n",
    "                bgcolor=\"rgba(0,0,0,0)\",\n",
    "            ),\n",
    "        )\n",
    "\n",
    "        k += 1\n",
    "\n",
    "    fig.show()"
   ]
  },
  {
   "cell_type": "markdown",
   "metadata": {},
   "source": [
    "## 5. Weight Comparison"
   ]
  },
  {
   "cell_type": "code",
   "execution_count": 96,
   "metadata": {},
   "outputs": [],
   "source": [
    "comp_weights_df = df[\n",
    "    (df[\"topk\"] == 21)\n",
    "    & (df[\"weighting\"].isin([\"uniform\", \"Sentence Sim\", \"TF-IDF\", \"Entropy\", \"Prior\"]))\n",
    "]\n",
    "\n",
    "for adapter in adapter_list:\n",
    "    comp_weights_df[adapter] = 0\n",
    "\n",
    "\n",
    "def get_weight_of_adapter(row, i):\n",
    "    weight = 0.0\n",
    "    if isinstance(row[\"weights\"], str):\n",
    "        weight_str = row[\"weights\"].split(\"-\")\n",
    "        try:\n",
    "            weight = float(weight_str[i])\n",
    "        except:\n",
    "            print(row)\n",
    "    elif row[\"weighting\"] == \"uniform\" and row[\"topk\"] == 21:\n",
    "        weight = float(0.047619047619047616)\n",
    "    return weight\n",
    "\n",
    "\n",
    "for i in range(len(adapter_list)):\n",
    "    comp_weights_df[adapter_list[i]] = comp_weights_df.apply(\n",
    "        lambda row: get_weight_of_adapter(row, i), axis=1\n",
    "    )\n",
    "\n",
    "grouped_df = comp_weights_df.groupby(by=['model', 'combination_strategy', 'weighting', 'eval_dataset']).mean().reset_index()\n",
    "grouped_df = grouped_df.groupby(by=['model', 'combination_strategy', 'weighting']).mean().reset_index()\n",
    "grouped_df = grouped_df.groupby(by=['model', 'weighting']).mean().reset_index()"
   ]
  },
  {
   "cell_type": "code",
   "execution_count": 99,
   "metadata": {},
   "outputs": [
    {
     "data": {
      "application/vnd.plotly.v1+json": {
       "config": {
        "plotlyServerURL": "https://plot.ly"
       },
       "data": [
        {
         "line": {
          "color": "rgb(102,194,165)"
         },
         "name": "Sentence Sim",
         "r": [
          0.058084925175648096,
          0.06073174092052682,
          0.046212045569898434,
          0.060749153829455095,
          0.04240486640039866,
          0.013328041202645585,
          0.06444061468762609,
          0.023577190983222023,
          0.06147086735949412,
          0.0349565243450081,
          0.06537935012064286,
          0.02861729868755062,
          0.05837110890503179,
          0.062326028162575695,
          0.05575835704800982,
          0.053868922282513235,
          0.0366299301286164,
          0.05339616211929166,
          0.0297460108835181,
          0.03333612502291628,
          0.05661473616541053
         ],
         "theta": [
          "dailymail",
          "wired",
          "express",
          "npr",
          "librarything",
          "instructables",
          "entrepreneur",
          "springer",
          "insiderpages",
          "ign",
          "eventbrite",
          "macrumors",
          "androidheadlines",
          "glassdoor",
          "pcworld",
          "csmonitor",
          "lonelyplanet",
          "booking",
          "journals",
          "frontiersin",
          "medium"
         ],
         "type": "scatterpolar"
        },
        {
         "line": {
          "color": "rgb(252,141,98)"
         },
         "name": "TF-IDF",
         "r": [
          0.05723733271015004,
          0.06183731859554405,
          0.05350557314621579,
          0.04601970943798224,
          0.04731474717941518,
          0.038089394919735974,
          0.05982045631874265,
          0.042128071614985094,
          0.044225198931551156,
          0.04781315918116834,
          0.04887945104414492,
          0.04059465923378751,
          0.0447579331969858,
          0.042418335088226636,
          0.05732720120309905,
          0.04993718566300128,
          0.04276731606937877,
          0.034565970763018705,
          0.04089902129010516,
          0.03581327779325027,
          0.06404868661951134
         ],
         "theta": [
          "dailymail",
          "wired",
          "express",
          "npr",
          "librarything",
          "instructables",
          "entrepreneur",
          "springer",
          "insiderpages",
          "ign",
          "eventbrite",
          "macrumors",
          "androidheadlines",
          "glassdoor",
          "pcworld",
          "csmonitor",
          "lonelyplanet",
          "booking",
          "journals",
          "frontiersin",
          "medium"
         ],
         "type": "scatterpolar"
        },
        {
         "line": {
          "color": "rgb(141,160,203)"
         },
         "name": "Entropy",
         "r": [
          0.04894675447603902,
          0.04876751583377653,
          0.048256638531860005,
          0.04894944757781015,
          0.04337858658538892,
          0.04852500149019294,
          0.048570831832450534,
          0.04863886475316781,
          0.04614088052921346,
          0.04765611154124767,
          0.04753400285191145,
          0.048411287623414165,
          0.04811661704905409,
          0.04085325792454936,
          0.04843919348917457,
          0.04888132183683789,
          0.045522258706620265,
          0.04842260009645227,
          0.04890688187678523,
          0.04867850931546499,
          0.04840343607858867
         ],
         "theta": [
          "dailymail",
          "wired",
          "express",
          "npr",
          "librarything",
          "instructables",
          "entrepreneur",
          "springer",
          "insiderpages",
          "ign",
          "eventbrite",
          "macrumors",
          "androidheadlines",
          "glassdoor",
          "pcworld",
          "csmonitor",
          "lonelyplanet",
          "booking",
          "journals",
          "frontiersin",
          "medium"
         ],
         "type": "scatterpolar"
        },
        {
         "line": {
          "color": "rgb(231,138,195)"
         },
         "name": "Prior",
         "r": [
          0.05158407438428636,
          0.05020028268024194,
          0.04919847572019861,
          0.051295055344499005,
          0.037639341931930116,
          0.05035013880708994,
          0.049769056545848754,
          0.04976221591325962,
          0.04451622987532991,
          0.046465790053090025,
          0.0465434972303848,
          0.049850779717081066,
          0.049036586486090286,
          0.032618657443853574,
          0.04955823631587201,
          0.051298852261255176,
          0.041556997134064626,
          0.05017288491852058,
          0.04935182016414201,
          0.050305973039504834,
          0.04892504804011955
         ],
         "theta": [
          "dailymail",
          "wired",
          "express",
          "npr",
          "librarything",
          "instructables",
          "entrepreneur",
          "springer",
          "insiderpages",
          "ign",
          "eventbrite",
          "macrumors",
          "androidheadlines",
          "glassdoor",
          "pcworld",
          "csmonitor",
          "lonelyplanet",
          "booking",
          "journals",
          "frontiersin",
          "medium"
         ],
         "type": "scatterpolar"
        },
        {
         "fill": "toself",
         "line": {
          "color": "rgb(179,179,179)"
         },
         "name": "Uniform",
         "opacity": 0.5,
         "r": [
          0.047619047619047616,
          0.047619047619047616,
          0.047619047619047616,
          0.047619047619047616,
          0.047619047619047616,
          0.047619047619047616,
          0.047619047619047616,
          0.047619047619047616,
          0.047619047619047616,
          0.047619047619047616,
          0.047619047619047616,
          0.047619047619047616,
          0.047619047619047616,
          0.047619047619047616,
          0.047619047619047616,
          0.047619047619047616,
          0.047619047619047616,
          0.047619047619047616,
          0.047619047619047616,
          0.047619047619047616,
          0.047619047619047616
         ],
         "theta": [
          "dailymail",
          "wired",
          "express",
          "npr",
          "librarything",
          "instructables",
          "entrepreneur",
          "springer",
          "insiderpages",
          "ign",
          "eventbrite",
          "macrumors",
          "androidheadlines",
          "glassdoor",
          "pcworld",
          "csmonitor",
          "lonelyplanet",
          "booking",
          "journals",
          "frontiersin",
          "medium"
         ],
         "type": "scatterpolar"
        }
       ],
       "layout": {
        "font": {
         "family": "Times New Roman",
         "size": 22
        },
        "legend": {
         "bgcolor": "rgba(0,0,0,0)",
         "x": 1.65,
         "xanchor": "right",
         "y": 0.95,
         "yanchor": "top"
        },
        "polar": {
         "radialaxis": {
          "range": [
           0,
           0.08
          ],
          "visible": true
         }
        },
        "showlegend": false,
        "template": {
         "data": {
          "scatter": [
           {
            "type": "scatter"
           }
          ]
         }
        },
        "title": {
         "text": "deberta"
        }
       }
      }
     },
     "metadata": {},
     "output_type": "display_data"
    },
    {
     "data": {
      "application/vnd.plotly.v1+json": {
       "config": {
        "plotlyServerURL": "https://plot.ly"
       },
       "data": [
        {
         "line": {
          "color": "rgb(102,194,165)"
         },
         "name": "Sentence Sim",
         "r": [
          0.056581541227291074,
          0.0602982283785217,
          0.048052574244999154,
          0.06347747423812679,
          0.04093990045503151,
          0.013531969224157812,
          0.06337210482580811,
          0.021469374412741927,
          0.06309005440127309,
          0.030216532721181254,
          0.06591390654190807,
          0.029746229641919114,
          0.05696928653097594,
          0.0642547688143595,
          0.05439712546879555,
          0.05472813604092015,
          0.03908556625574244,
          0.052757155584791604,
          0.03196100752675958,
          0.03218195079435553,
          0.0569751126703401
         ],
         "theta": [
          "dailymail",
          "wired",
          "express",
          "npr",
          "librarything",
          "instructables",
          "entrepreneur",
          "springer",
          "insiderpages",
          "ign",
          "eventbrite",
          "macrumors",
          "androidheadlines",
          "glassdoor",
          "pcworld",
          "csmonitor",
          "lonelyplanet",
          "booking",
          "journals",
          "frontiersin",
          "medium"
         ],
         "type": "scatterpolar"
        },
        {
         "line": {
          "color": "rgb(252,141,98)"
         },
         "name": "TF-IDF",
         "r": [
          0.05652676187629417,
          0.06417056564850732,
          0.05328375838146511,
          0.044294510626376814,
          0.04773926908989977,
          0.0381253667337376,
          0.060638923511788276,
          0.04268040976794808,
          0.044577274283512394,
          0.04681616224163261,
          0.04976591152560454,
          0.04047062364624644,
          0.0453136326995656,
          0.04170104220966088,
          0.056268082230677495,
          0.050054056047353176,
          0.04234810905439408,
          0.034828883638359696,
          0.04079913646995097,
          0.03525010535066446,
          0.0643474149663605
         ],
         "theta": [
          "dailymail",
          "wired",
          "express",
          "npr",
          "librarything",
          "instructables",
          "entrepreneur",
          "springer",
          "insiderpages",
          "ign",
          "eventbrite",
          "macrumors",
          "androidheadlines",
          "glassdoor",
          "pcworld",
          "csmonitor",
          "lonelyplanet",
          "booking",
          "journals",
          "frontiersin",
          "medium"
         ],
         "type": "scatterpolar"
        },
        {
         "line": {
          "color": "rgb(141,160,203)"
         },
         "name": "Entropy",
         "r": [
          0.04768680113077478,
          0.047663013656698915,
          0.04765641019285152,
          0.04767269581735592,
          0.04756139647648251,
          0.047614555489915625,
          0.04766337212481468,
          0.04760225385328136,
          0.04753610226949495,
          0.047644426567635775,
          0.047593621744020556,
          0.047600918236201634,
          0.04766639729807497,
          0.04754054168536746,
          0.04768471198732268,
          0.047659994405221735,
          0.04754559715248234,
          0.04750403174576342,
          0.04763626006888526,
          0.04760975384485918,
          0.04765714425249472
         ],
         "theta": [
          "dailymail",
          "wired",
          "express",
          "npr",
          "librarything",
          "instructables",
          "entrepreneur",
          "springer",
          "insiderpages",
          "ign",
          "eventbrite",
          "macrumors",
          "androidheadlines",
          "glassdoor",
          "pcworld",
          "csmonitor",
          "lonelyplanet",
          "booking",
          "journals",
          "frontiersin",
          "medium"
         ],
         "type": "scatterpolar"
        },
        {
         "line": {
          "color": "rgb(231,138,195)"
         },
         "name": "Prior",
         "r": [
          0.03993067060618842,
          0.04103244347747546,
          0.04433795368083462,
          0.048823283114266265,
          0.05058878892257063,
          0.04778357234536891,
          0.04063217516918274,
          0.045461139300121176,
          0.06411872338167647,
          0.04060843947180926,
          0.04551838607809276,
          0.05369933905047934,
          0.04319186554283162,
          0.053354511470338,
          0.038012651768125544,
          0.04169821456306174,
          0.04643426088725981,
          0.0779325915562681,
          0.04660189721589887,
          0.04644201959940153,
          0.04376682662372215
         ],
         "theta": [
          "dailymail",
          "wired",
          "express",
          "npr",
          "librarything",
          "instructables",
          "entrepreneur",
          "springer",
          "insiderpages",
          "ign",
          "eventbrite",
          "macrumors",
          "androidheadlines",
          "glassdoor",
          "pcworld",
          "csmonitor",
          "lonelyplanet",
          "booking",
          "journals",
          "frontiersin",
          "medium"
         ],
         "type": "scatterpolar"
        },
        {
         "fill": "toself",
         "line": {
          "color": "rgb(179,179,179)"
         },
         "name": "Uniform",
         "opacity": 0.5,
         "r": [
          0.047619047619047616,
          0.047619047619047616,
          0.047619047619047616,
          0.047619047619047616,
          0.047619047619047616,
          0.047619047619047616,
          0.047619047619047616,
          0.047619047619047616,
          0.047619047619047616,
          0.047619047619047616,
          0.047619047619047616,
          0.047619047619047616,
          0.047619047619047616,
          0.047619047619047616,
          0.047619047619047616,
          0.047619047619047616,
          0.047619047619047616,
          0.047619047619047616,
          0.047619047619047616,
          0.047619047619047616,
          0.047619047619047616
         ],
         "theta": [
          "dailymail",
          "wired",
          "express",
          "npr",
          "librarything",
          "instructables",
          "entrepreneur",
          "springer",
          "insiderpages",
          "ign",
          "eventbrite",
          "macrumors",
          "androidheadlines",
          "glassdoor",
          "pcworld",
          "csmonitor",
          "lonelyplanet",
          "booking",
          "journals",
          "frontiersin",
          "medium"
         ],
         "type": "scatterpolar"
        }
       ],
       "layout": {
        "font": {
         "family": "Times New Roman",
         "size": 22
        },
        "legend": {
         "bgcolor": "rgba(0,0,0,0)",
         "x": 1.65,
         "xanchor": "right",
         "y": 0.95,
         "yanchor": "top"
        },
        "polar": {
         "radialaxis": {
          "range": [
           0,
           0.08
          ],
          "visible": true
         }
        },
        "showlegend": false,
        "template": {
         "data": {
          "scatter": [
           {
            "type": "scatter"
           }
          ]
         }
        },
        "title": {
         "text": "gpt2"
        }
       }
      }
     },
     "metadata": {},
     "output_type": "display_data"
    },
    {
     "data": {
      "application/vnd.plotly.v1+json": {
       "config": {
        "plotlyServerURL": "https://plot.ly"
       },
       "data": [
        {
         "line": {
          "color": "rgb(102,194,165)"
         },
         "name": "Sentence Sim",
         "r": [
          0.056581541227291074,
          0.0602982283785217,
          0.048052574244999154,
          0.06347747423812679,
          0.04093990045503151,
          0.013531969224157812,
          0.06337210482580811,
          0.021469374412741927,
          0.06309005440127309,
          0.030216532721181254,
          0.06591390654190807,
          0.029746229641919114,
          0.05696928653097594,
          0.0642547688143595,
          0.05439712546879555,
          0.05472813604092015,
          0.03908556625574244,
          0.052757155584791604,
          0.03196100752675958,
          0.03218195079435553,
          0.0569751126703401
         ],
         "theta": [
          "dailymail",
          "wired",
          "express",
          "npr",
          "librarything",
          "instructables",
          "entrepreneur",
          "springer",
          "insiderpages",
          "ign",
          "eventbrite",
          "macrumors",
          "androidheadlines",
          "glassdoor",
          "pcworld",
          "csmonitor",
          "lonelyplanet",
          "booking",
          "journals",
          "frontiersin",
          "medium"
         ],
         "type": "scatterpolar"
        },
        {
         "line": {
          "color": "rgb(252,141,98)"
         },
         "name": "TF-IDF",
         "r": [
          0.05652676187629417,
          0.06417056564850732,
          0.05328375838146511,
          0.044294510626376814,
          0.04773926908989977,
          0.0381253667337376,
          0.060638923511788276,
          0.04268040976794808,
          0.044577274283512394,
          0.04681616224163261,
          0.04976591152560454,
          0.04047062364624644,
          0.0453136326995656,
          0.04170104220966088,
          0.056268082230677495,
          0.050054056047353176,
          0.04234810905439408,
          0.034828883638359696,
          0.04079913646995097,
          0.03525010535066446,
          0.0643474149663605
         ],
         "theta": [
          "dailymail",
          "wired",
          "express",
          "npr",
          "librarything",
          "instructables",
          "entrepreneur",
          "springer",
          "insiderpages",
          "ign",
          "eventbrite",
          "macrumors",
          "androidheadlines",
          "glassdoor",
          "pcworld",
          "csmonitor",
          "lonelyplanet",
          "booking",
          "journals",
          "frontiersin",
          "medium"
         ],
         "type": "scatterpolar"
        },
        {
         "line": {
          "color": "rgb(141,160,203)"
         },
         "name": "Entropy",
         "r": [
          0.047669553175669385,
          0.04765490996151028,
          0.04766718282031457,
          0.04765842166688443,
          0.04761373055479209,
          0.04758402161979984,
          0.047671952306826464,
          0.04758111145706172,
          0.047593142106225436,
          0.04766054077910001,
          0.047620377645144485,
          0.04760781524210272,
          0.04764022865796715,
          0.04760361710454876,
          0.04768061190114544,
          0.047642338533366316,
          0.04761810440011244,
          0.0474572198958451,
          0.047569274699688635,
          0.047580685027462113,
          0.04762516044443262
         ],
         "theta": [
          "dailymail",
          "wired",
          "express",
          "npr",
          "librarything",
          "instructables",
          "entrepreneur",
          "springer",
          "insiderpages",
          "ign",
          "eventbrite",
          "macrumors",
          "androidheadlines",
          "glassdoor",
          "pcworld",
          "csmonitor",
          "lonelyplanet",
          "booking",
          "journals",
          "frontiersin",
          "medium"
         ],
         "type": "scatterpolar"
        },
        {
         "line": {
          "color": "rgb(231,138,195)"
         },
         "name": "Prior",
         "r": [
          0.0410308837890625,
          0.037701416015625,
          0.04375,
          0.0435546875,
          0.042340087890625,
          0.0542694091796875,
          0.037799072265625,
          0.04786376953125,
          0.056512451171875,
          0.041015625,
          0.0438262939453125,
          0.052105712890625,
          0.0512420654296875,
          0.0506317138671875,
          0.0376953125,
          0.040045166015625,
          0.042657470703125,
          0.084521484375,
          0.0532928466796875,
          0.054443359375,
          0.0436767578125
         ],
         "theta": [
          "dailymail",
          "wired",
          "express",
          "npr",
          "librarything",
          "instructables",
          "entrepreneur",
          "springer",
          "insiderpages",
          "ign",
          "eventbrite",
          "macrumors",
          "androidheadlines",
          "glassdoor",
          "pcworld",
          "csmonitor",
          "lonelyplanet",
          "booking",
          "journals",
          "frontiersin",
          "medium"
         ],
         "type": "scatterpolar"
        },
        {
         "fill": "toself",
         "line": {
          "color": "rgb(179,179,179)"
         },
         "name": "Uniform",
         "opacity": 0.5,
         "r": [
          0.047619047619047616,
          0.047619047619047616,
          0.047619047619047616,
          0.047619047619047616,
          0.047619047619047616,
          0.047619047619047616,
          0.047619047619047616,
          0.047619047619047616,
          0.047619047619047616,
          0.047619047619047616,
          0.047619047619047616,
          0.047619047619047616,
          0.047619047619047616,
          0.047619047619047616,
          0.047619047619047616,
          0.047619047619047616,
          0.047619047619047616,
          0.047619047619047616,
          0.047619047619047616,
          0.047619047619047616,
          0.047619047619047616
         ],
         "theta": [
          "dailymail",
          "wired",
          "express",
          "npr",
          "librarything",
          "instructables",
          "entrepreneur",
          "springer",
          "insiderpages",
          "ign",
          "eventbrite",
          "macrumors",
          "androidheadlines",
          "glassdoor",
          "pcworld",
          "csmonitor",
          "lonelyplanet",
          "booking",
          "journals",
          "frontiersin",
          "medium"
         ],
         "type": "scatterpolar"
        }
       ],
       "layout": {
        "font": {
         "family": "Times New Roman",
         "size": 22
        },
        "legend": {
         "bgcolor": "rgba(0,0,0,0)",
         "x": 1.65,
         "xanchor": "right",
         "y": 0.95,
         "yanchor": "top"
        },
        "polar": {
         "radialaxis": {
          "range": [
           0,
           0.08
          ],
          "visible": true
         }
        },
        "showlegend": false,
        "template": {
         "data": {
          "scatter": [
           {
            "type": "scatter"
           }
          ]
         }
        },
        "title": {
         "text": "gpt2-large"
        }
       }
      }
     },
     "metadata": {},
     "output_type": "display_data"
    }
   ],
   "source": [
    "import plotly.express as px\n",
    "import pandas as pd\n",
    "\n",
    "for model in grouped_df.model.unique():\n",
    "\n",
    "    sub = grouped_df[grouped_df['model'] == model][['weighting','dailymail', 'wired',\n",
    "        'express', 'npr', 'librarything', 'instructables', 'entrepreneur',\n",
    "        'springer', 'insiderpages', 'ign', 'eventbrite', 'macrumors',\n",
    "        'androidheadlines', 'glassdoor', 'pcworld', 'csmonitor', 'lonelyplanet',\n",
    "        'booking', 'journals', 'frontiersin', 'medium']]\n",
    "    sub = sub.transpose()\n",
    "    sub.rename(columns=sub.iloc[0], inplace = True)\n",
    "    sub.drop(sub.index[0], inplace = True)\n",
    "    sub = sub.reset_index()\n",
    "    sub.rename(columns={\"index\": \"adapter\"}, inplace = True)\n",
    "\n",
    "    fig = go.Figure()\n",
    "\n",
    "    fig.add_trace(go.Scatterpolar(\n",
    "        r=sub['Sentence Sim'],\n",
    "        theta=sub.adapter,\n",
    "        name='Sentence Sim',\n",
    "        line_color = color_list[0]\n",
    "    ))\n",
    "    fig.add_trace(go.Scatterpolar(\n",
    "        r=sub['TF-IDF'],\n",
    "        theta=sub.adapter,\n",
    "        name='TF-IDF',\n",
    "        line_color = color_list[1]\n",
    "    ))\n",
    "    fig.add_trace(go.Scatterpolar(\n",
    "        r=sub['Entropy'],\n",
    "        theta=sub.adapter,\n",
    "        name='Entropy',\n",
    "        line_color = color_list[2]\n",
    "    ))\n",
    "    fig.add_trace(go.Scatterpolar(\n",
    "        r=sub['Prior'],\n",
    "        theta=sub.adapter,\n",
    "        name='Prior',\n",
    "        line_color = color_list[3]\n",
    "    ))\n",
    "    fig.add_trace(go.Scatterpolar(\n",
    "        r=sub['uniform'],\n",
    "        theta=sub.adapter,\n",
    "        fill='toself',\n",
    "        name='Uniform',\n",
    "        line_color = color_list[7],\n",
    "        opacity=.5\n",
    "    ))\n",
    "\n",
    "    fig.update_layout(\n",
    "        title=model,\n",
    "        font_family=\"Times New Roman\",\n",
    "                    font=dict(size=22),\n",
    "        legend=dict(\n",
    "                            yanchor=\"top\",\n",
    "                            xanchor=\"right\",\n",
    "                        y=0.95,\n",
    "                        x=1.65,\n",
    "            bgcolor = 'rgba(0,0,0,0)'\n",
    "                        ),    \n",
    "        showlegend=False,\n",
    "    polar=dict(\n",
    "        radialaxis=dict(\n",
    "        visible=True,\n",
    "        range=[0, 0.08]\n",
    "        ))\n",
    "    )\n",
    "    fig.show()"
   ]
  },
  {
   "cell_type": "code",
   "execution_count": null,
   "metadata": {},
   "outputs": [],
   "source": []
  }
 ],
 "metadata": {
  "kernelspec": {
   "display_name": "Python 3",
   "language": "python",
   "name": "python3"
  },
  "language_info": {
   "codemirror_mode": {
    "name": "ipython",
    "version": 3
   },
   "file_extension": ".py",
   "mimetype": "text/x-python",
   "name": "python",
   "nbconvert_exporter": "python",
   "pygments_lexer": "ipython3",
   "version": "3.9.6"
  },
  "orig_nbformat": 4
 },
 "nbformat": 4,
 "nbformat_minor": 2
}
